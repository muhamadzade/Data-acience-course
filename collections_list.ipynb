{
  "nbformat": 4,
  "nbformat_minor": 0,
  "metadata": {
    "colab": {
      "name": "collections_list.ipynb",
      "provenance": [],
      "authorship_tag": "ABX9TyNuvcK3fOENvj3QTOwe9EJv",
      "include_colab_link": true
    },
    "kernelspec": {
      "name": "python3",
      "display_name": "Python 3"
    },
    "language_info": {
      "name": "python"
    }
  },
  "cells": [
    {
      "cell_type": "markdown",
      "metadata": {
        "id": "view-in-github",
        "colab_type": "text"
      },
      "source": [
        "<a href=\"https://colab.research.google.com/github/muhamadzade/Data-acience-course/blob/main/collections_list.ipynb\" target=\"_parent\"><img src=\"https://colab.research.google.com/assets/colab-badge.svg\" alt=\"Open In Colab\"/></a>"
      ]
    },
    {
      "cell_type": "code",
      "metadata": {
        "colab": {
          "base_uri": "https://localhost:8080/",
          "height": 233
        },
        "id": "iPJKr7McyZ71",
        "outputId": "437eb2e2-9869-4ff4-e34e-d8d5667c8fff"
      },
      "source": [
        "collectoion\n",
        "list\n",
        "tuple\n",
        "set\n",
        "dict\n"
      ],
      "execution_count": 1,
      "outputs": [
        {
          "output_type": "error",
          "ename": "NameError",
          "evalue": "ignored",
          "traceback": [
            "\u001b[0;31m---------------------------------------------------------------------------\u001b[0m",
            "\u001b[0;31mNameError\u001b[0m                                 Traceback (most recent call last)",
            "\u001b[0;32m<ipython-input-1-6a9d12d1d0eb>\u001b[0m in \u001b[0;36m<module>\u001b[0;34m()\u001b[0m\n\u001b[0;32m----> 1\u001b[0;31m \u001b[0mcollectoion\u001b[0m\u001b[0;34m\u001b[0m\u001b[0;34m\u001b[0m\u001b[0m\n\u001b[0m\u001b[1;32m      2\u001b[0m \u001b[0mlist\u001b[0m\u001b[0;34m\u001b[0m\u001b[0;34m\u001b[0m\u001b[0m\n\u001b[1;32m      3\u001b[0m \u001b[0mtuple\u001b[0m\u001b[0;34m\u001b[0m\u001b[0;34m\u001b[0m\u001b[0m\n\u001b[1;32m      4\u001b[0m \u001b[0mset\u001b[0m\u001b[0;34m\u001b[0m\u001b[0;34m\u001b[0m\u001b[0m\n\u001b[1;32m      5\u001b[0m \u001b[0mdict\u001b[0m\u001b[0;34m\u001b[0m\u001b[0;34m\u001b[0m\u001b[0m\n",
            "\u001b[0;31mNameError\u001b[0m: name 'collectoion' is not defined"
          ]
        }
      ]
    },
    {
      "cell_type": "code",
      "metadata": {
        "id": "Xd_dFXRUyiAH"
      },
      "source": [
        "mylist = [\"apple\", \"banana\", \"cherry\"]"
      ],
      "execution_count": 2,
      "outputs": []
    },
    {
      "cell_type": "code",
      "metadata": {
        "colab": {
          "base_uri": "https://localhost:8080/",
          "height": 0
        },
        "id": "Tl-hvAimyp22",
        "outputId": "1e135f65-bd84-47a8-e94c-585912bc44cc"
      },
      "source": [
        "print(len(mylist))"
      ],
      "execution_count": 3,
      "outputs": [
        {
          "output_type": "stream",
          "text": [
            "3\n"
          ],
          "name": "stdout"
        }
      ]
    },
    {
      "cell_type": "code",
      "metadata": {
        "colab": {
          "base_uri": "https://localhost:8080/",
          "height": 35
        },
        "id": "QVfyjZjzytA5",
        "outputId": "4dd50bcf-4f20-4d42-8b42-35cad5e1924b"
      },
      "source": [
        "mylist[0]"
      ],
      "execution_count": 4,
      "outputs": [
        {
          "output_type": "execute_result",
          "data": {
            "application/vnd.google.colaboratory.intrinsic+json": {
              "type": "string"
            },
            "text/plain": [
              "'apple'"
            ]
          },
          "metadata": {
            "tags": []
          },
          "execution_count": 4
        }
      ]
    },
    {
      "cell_type": "code",
      "metadata": {
        "colab": {
          "base_uri": "https://localhost:8080/",
          "height": 0
        },
        "id": "2Qgfm7_AywOY",
        "outputId": "0d5e7c32-9dd6-4563-ee7e-398a6392dea3"
      },
      "source": [
        "mylist[0:2]"
      ],
      "execution_count": 5,
      "outputs": [
        {
          "output_type": "execute_result",
          "data": {
            "text/plain": [
              "['apple', 'banana']"
            ]
          },
          "metadata": {
            "tags": []
          },
          "execution_count": 5
        }
      ]
    },
    {
      "cell_type": "code",
      "metadata": {
        "id": "4BtbK5ZHy9yL"
      },
      "source": [
        "mylist.append(\"watermelon\")"
      ],
      "execution_count": 6,
      "outputs": []
    },
    {
      "cell_type": "code",
      "metadata": {
        "colab": {
          "base_uri": "https://localhost:8080/",
          "height": 0
        },
        "id": "7_Zv2sCbzGub",
        "outputId": "9e58f061-4641-48db-ea7f-50a841862a58"
      },
      "source": [
        "mylist"
      ],
      "execution_count": 7,
      "outputs": [
        {
          "output_type": "execute_result",
          "data": {
            "text/plain": [
              "['apple', 'banana', 'cherry', 'watermelon']"
            ]
          },
          "metadata": {
            "tags": []
          },
          "execution_count": 7
        }
      ]
    },
    {
      "cell_type": "code",
      "metadata": {
        "id": "kt7528zwzINE"
      },
      "source": [
        "mylist.insert(0,'orange')"
      ],
      "execution_count": 8,
      "outputs": []
    },
    {
      "cell_type": "code",
      "metadata": {
        "colab": {
          "base_uri": "https://localhost:8080/",
          "height": 0
        },
        "id": "h4KwDPfAzn51",
        "outputId": "0a4a2b84-bdab-4b23-e6f7-c595e973c27d"
      },
      "source": [
        "mylist"
      ],
      "execution_count": 9,
      "outputs": [
        {
          "output_type": "execute_result",
          "data": {
            "text/plain": [
              "['orange', 'apple', 'banana', 'cherry', 'watermelon']"
            ]
          },
          "metadata": {
            "tags": []
          },
          "execution_count": 9
        }
      ]
    },
    {
      "cell_type": "code",
      "metadata": {
        "colab": {
          "base_uri": "https://localhost:8080/",
          "height": 35
        },
        "id": "NLHYve1GzpCP",
        "outputId": "5f9f5db5-d45f-4ba6-9dcc-a955c553e46d"
      },
      "source": [
        "mylist.pop()"
      ],
      "execution_count": 10,
      "outputs": [
        {
          "output_type": "execute_result",
          "data": {
            "application/vnd.google.colaboratory.intrinsic+json": {
              "type": "string"
            },
            "text/plain": [
              "'watermelon'"
            ]
          },
          "metadata": {
            "tags": []
          },
          "execution_count": 10
        }
      ]
    },
    {
      "cell_type": "code",
      "metadata": {
        "colab": {
          "base_uri": "https://localhost:8080/",
          "height": 0
        },
        "id": "AffGImNrztMw",
        "outputId": "2c315065-202b-4960-a112-dddc2ad3698f"
      },
      "source": [
        "mylist"
      ],
      "execution_count": 11,
      "outputs": [
        {
          "output_type": "execute_result",
          "data": {
            "text/plain": [
              "['orange', 'apple', 'banana', 'cherry']"
            ]
          },
          "metadata": {
            "tags": []
          },
          "execution_count": 11
        }
      ]
    },
    {
      "cell_type": "code",
      "metadata": {
        "colab": {
          "base_uri": "https://localhost:8080/",
          "height": 35
        },
        "id": "4GdVlf08zvYJ",
        "outputId": "94bf15ad-ce63-4430-8bf6-2672ad28a27d"
      },
      "source": [
        "mylist.pop(1)"
      ],
      "execution_count": 12,
      "outputs": [
        {
          "output_type": "execute_result",
          "data": {
            "application/vnd.google.colaboratory.intrinsic+json": {
              "type": "string"
            },
            "text/plain": [
              "'apple'"
            ]
          },
          "metadata": {
            "tags": []
          },
          "execution_count": 12
        }
      ]
    },
    {
      "cell_type": "code",
      "metadata": {
        "colab": {
          "base_uri": "https://localhost:8080/",
          "height": 0
        },
        "id": "Kk4swAulzyIg",
        "outputId": "4f225c02-803b-475e-a190-181d50d1949d"
      },
      "source": [
        "mylist"
      ],
      "execution_count": 13,
      "outputs": [
        {
          "output_type": "execute_result",
          "data": {
            "text/plain": [
              "['orange', 'banana', 'cherry']"
            ]
          },
          "metadata": {
            "tags": []
          },
          "execution_count": 13
        }
      ]
    },
    {
      "cell_type": "code",
      "metadata": {
        "id": "Nfz9n25BzzM6"
      },
      "source": [
        "mylist.append('banana')"
      ],
      "execution_count": 14,
      "outputs": []
    },
    {
      "cell_type": "code",
      "metadata": {
        "colab": {
          "base_uri": "https://localhost:8080/",
          "height": 0
        },
        "id": "bF2-k6LHz40z",
        "outputId": "733ce409-21ea-4feb-d97a-3d77622ee5f4"
      },
      "source": [
        "mylist"
      ],
      "execution_count": 15,
      "outputs": [
        {
          "output_type": "execute_result",
          "data": {
            "text/plain": [
              "['orange', 'banana', 'cherry', 'banana']"
            ]
          },
          "metadata": {
            "tags": []
          },
          "execution_count": 15
        }
      ]
    },
    {
      "cell_type": "code",
      "metadata": {
        "colab": {
          "base_uri": "https://localhost:8080/",
          "height": 0
        },
        "id": "70xk_5lhz5mx",
        "outputId": "b0d9b1a3-e866-435a-ef19-2a673ce9f762"
      },
      "source": [
        "mylist[2]='kiwi'\n",
        "mylist"
      ],
      "execution_count": 16,
      "outputs": [
        {
          "output_type": "execute_result",
          "data": {
            "text/plain": [
              "['orange', 'banana', 'kiwi', 'banana']"
            ]
          },
          "metadata": {
            "tags": []
          },
          "execution_count": 16
        }
      ]
    },
    {
      "cell_type": "code",
      "metadata": {
        "id": "YomCIkCt0C3o"
      },
      "source": [
        "for i in range(5):\n",
        "  mylist.append(i**2)"
      ],
      "execution_count": 20,
      "outputs": []
    },
    {
      "cell_type": "code",
      "metadata": {
        "colab": {
          "base_uri": "https://localhost:8080/"
        },
        "id": "TynVnxwX0Kyb",
        "outputId": "1939d974-a970-4f21-fd6e-40140a485f41"
      },
      "source": [
        "mylist"
      ],
      "execution_count": 21,
      "outputs": [
        {
          "output_type": "execute_result",
          "data": {
            "text/plain": [
              "['orange', 'banana', 'kiwi', 'banana', 0, 1, 4, 9, 16, 0, 1, 4, 9, 16]"
            ]
          },
          "metadata": {
            "tags": []
          },
          "execution_count": 21
        }
      ]
    },
    {
      "cell_type": "code",
      "metadata": {
        "colab": {
          "base_uri": "https://localhost:8080/",
          "height": 0
        },
        "id": "0bmfAk7-0MLQ",
        "outputId": "594b775d-de9b-44f6-edba-d78db2110690"
      },
      "source": [
        "len(mylist)"
      ],
      "execution_count": 19,
      "outputs": [
        {
          "output_type": "execute_result",
          "data": {
            "text/plain": [
              "9"
            ]
          },
          "metadata": {
            "tags": []
          },
          "execution_count": 19
        }
      ]
    },
    {
      "cell_type": "code",
      "metadata": {
        "id": "rsL9zUG10OuM"
      },
      "source": [
        "#list: [] nahamgen, index, tekrarpazir, tavali"
      ],
      "execution_count": 22,
      "outputs": []
    },
    {
      "cell_type": "code",
      "metadata": {
        "colab": {
          "base_uri": "https://localhost:8080/"
        },
        "id": "RjHnOhIc4jtg",
        "outputId": "edd9226a-ab86-4578-980a-5278a643014a"
      },
      "source": [
        "mylist"
      ],
      "execution_count": 23,
      "outputs": [
        {
          "output_type": "execute_result",
          "data": {
            "text/plain": [
              "['orange', 'banana', 'kiwi', 'banana', 0, 1, 4, 9, 16, 0, 1, 4, 9, 16]"
            ]
          },
          "metadata": {
            "tags": []
          },
          "execution_count": 23
        }
      ]
    },
    {
      "cell_type": "code",
      "metadata": {
        "colab": {
          "base_uri": "https://localhost:8080/"
        },
        "id": "X01OAxPs4ljF",
        "outputId": "3e6d8f13-f2e7-4c9d-885b-2b3cfd622361"
      },
      "source": [
        "mylist[0:5:2]"
      ],
      "execution_count": 29,
      "outputs": [
        {
          "output_type": "execute_result",
          "data": {
            "text/plain": [
              "['orange', 'kiwi', 0]"
            ]
          },
          "metadata": {
            "tags": []
          },
          "execution_count": 29
        }
      ]
    },
    {
      "cell_type": "code",
      "metadata": {
        "colab": {
          "base_uri": "https://localhost:8080/"
        },
        "id": "m7qyO3F14reD",
        "outputId": "f93bd715-3513-496f-8dbf-1325f35a8faf"
      },
      "source": [
        "mylist[10:2:-3]"
      ],
      "execution_count": 37,
      "outputs": [
        {
          "output_type": "execute_result",
          "data": {
            "text/plain": [
              "[1, 9, 0]"
            ]
          },
          "metadata": {
            "tags": []
          },
          "execution_count": 37
        }
      ]
    },
    {
      "cell_type": "code",
      "metadata": {
        "colab": {
          "base_uri": "https://localhost:8080/"
        },
        "id": "U3REZwNk5C14",
        "outputId": "b998853e-638a-4f72-bea4-ca51fcc1083a"
      },
      "source": [
        "mylist"
      ],
      "execution_count": 33,
      "outputs": [
        {
          "output_type": "execute_result",
          "data": {
            "text/plain": [
              "['orange', 'banana', 'kiwi', 'banana', 0, 1, 4, 9, 16, 0, 1, 4, 9, 16]"
            ]
          },
          "metadata": {
            "tags": []
          },
          "execution_count": 33
        }
      ]
    },
    {
      "cell_type": "code",
      "metadata": {
        "colab": {
          "base_uri": "https://localhost:8080/"
        },
        "id": "xoz6DU4i5Un4",
        "outputId": "65e75569-26a0-47dd-a199-2ed709807d7b"
      },
      "source": [
        "mylist[:]"
      ],
      "execution_count": 36,
      "outputs": [
        {
          "output_type": "execute_result",
          "data": {
            "text/plain": [
              "['orange', 'banana', 'kiwi', 'banana', 0, 1, 4, 9, 16, 0, 1, 4, 9, 16]"
            ]
          },
          "metadata": {
            "tags": []
          },
          "execution_count": 36
        }
      ]
    },
    {
      "cell_type": "code",
      "metadata": {
        "id": "AD8s_PNB5Y_9"
      },
      "source": [
        "mylist.clear()"
      ],
      "execution_count": 38,
      "outputs": []
    },
    {
      "cell_type": "code",
      "metadata": {
        "id": "aJpvykb46T7W"
      },
      "source": [
        "mylist=[1,6,7,10,2,11,1,2,10]"
      ],
      "execution_count": 42,
      "outputs": []
    },
    {
      "cell_type": "code",
      "metadata": {
        "colab": {
          "base_uri": "https://localhost:8080/"
        },
        "id": "FFuFg8kj6VB9",
        "outputId": "ff73fe12-6939-49fe-89a8-20e1934b1e84"
      },
      "source": [
        "mylist.count(1)"
      ],
      "execution_count": 43,
      "outputs": [
        {
          "output_type": "execute_result",
          "data": {
            "text/plain": [
              "2"
            ]
          },
          "metadata": {
            "tags": []
          },
          "execution_count": 43
        }
      ]
    },
    {
      "cell_type": "code",
      "metadata": {
        "colab": {
          "base_uri": "https://localhost:8080/"
        },
        "id": "2FNAsq7y6d5t",
        "outputId": "9c22440e-4700-4b02-e74d-203a60ff6126"
      },
      "source": [
        "mylist.index(6)"
      ],
      "execution_count": 44,
      "outputs": [
        {
          "output_type": "execute_result",
          "data": {
            "text/plain": [
              "1"
            ]
          },
          "metadata": {
            "tags": []
          },
          "execution_count": 44
        }
      ]
    },
    {
      "cell_type": "code",
      "metadata": {
        "colab": {
          "base_uri": "https://localhost:8080/"
        },
        "id": "7tHEGnyN6kbB",
        "outputId": "afd74607-be68-4466-a336-ded0df413a67"
      },
      "source": [
        "mylist"
      ],
      "execution_count": 45,
      "outputs": [
        {
          "output_type": "execute_result",
          "data": {
            "text/plain": [
              "[1, 6, 7, 10, 2, 11, 1, 2, 10]"
            ]
          },
          "metadata": {
            "tags": []
          },
          "execution_count": 45
        }
      ]
    },
    {
      "cell_type": "code",
      "metadata": {
        "id": "ANIrob8W6ptr"
      },
      "source": [
        "mylist.remove(10)"
      ],
      "execution_count": 46,
      "outputs": []
    },
    {
      "cell_type": "code",
      "metadata": {
        "colab": {
          "base_uri": "https://localhost:8080/"
        },
        "id": "FJV0LgWr6vk6",
        "outputId": "f4bc60da-89c5-4d4e-cdd7-c05cd8cf6450"
      },
      "source": [
        "mylist"
      ],
      "execution_count": 47,
      "outputs": [
        {
          "output_type": "execute_result",
          "data": {
            "text/plain": [
              "[1, 6, 7, 2, 11, 1, 2, 10]"
            ]
          },
          "metadata": {
            "tags": []
          },
          "execution_count": 47
        }
      ]
    },
    {
      "cell_type": "code",
      "metadata": {
        "id": "2Mzm91AO6xM0"
      },
      "source": [
        "mylist.sort()"
      ],
      "execution_count": 48,
      "outputs": []
    },
    {
      "cell_type": "code",
      "metadata": {
        "colab": {
          "base_uri": "https://localhost:8080/"
        },
        "id": "ytuVPWwu62D1",
        "outputId": "9e7aff29-cf85-4e9f-b89c-8fa703eabee3"
      },
      "source": [
        "mylist"
      ],
      "execution_count": 49,
      "outputs": [
        {
          "output_type": "execute_result",
          "data": {
            "text/plain": [
              "[1, 1, 2, 2, 6, 7, 10, 11]"
            ]
          },
          "metadata": {
            "tags": []
          },
          "execution_count": 49
        }
      ]
    },
    {
      "cell_type": "code",
      "metadata": {
        "id": "uUpl1xXZ63BF"
      },
      "source": [
        "#tuple (,) nahamgen, index, tekrarpazir, tavali, taghir pazir nistand"
      ],
      "execution_count": 50,
      "outputs": []
    },
    {
      "cell_type": "code",
      "metadata": {
        "id": "-3OLUbFC9McX"
      },
      "source": [
        "t=(3,4)"
      ],
      "execution_count": 51,
      "outputs": []
    },
    {
      "cell_type": "code",
      "metadata": {
        "colab": {
          "base_uri": "https://localhost:8080/"
        },
        "id": "WW_4-nu99Ob2",
        "outputId": "6a30f388-e9a6-418e-9b12-c67d9f740546"
      },
      "source": [
        "t\n"
      ],
      "execution_count": 52,
      "outputs": [
        {
          "output_type": "execute_result",
          "data": {
            "text/plain": [
              "(3, 4)"
            ]
          },
          "metadata": {
            "tags": []
          },
          "execution_count": 52
        }
      ]
    },
    {
      "cell_type": "code",
      "metadata": {
        "colab": {
          "base_uri": "https://localhost:8080/"
        },
        "id": "684wSTkO9PXr",
        "outputId": "1b5fb882-9647-4880-984a-471bd8a1d320"
      },
      "source": [
        "t.index(4)"
      ],
      "execution_count": 54,
      "outputs": [
        {
          "output_type": "execute_result",
          "data": {
            "text/plain": [
              "1"
            ]
          },
          "metadata": {
            "tags": []
          },
          "execution_count": 54
        }
      ]
    },
    {
      "cell_type": "code",
      "metadata": {
        "colab": {
          "base_uri": "https://localhost:8080/"
        },
        "id": "aIH5ulzM9Ti7",
        "outputId": "759d5a40-047d-43c0-8054-8d43348f391e"
      },
      "source": [
        "t.count(4)"
      ],
      "execution_count": 55,
      "outputs": [
        {
          "output_type": "execute_result",
          "data": {
            "text/plain": [
              "1"
            ]
          },
          "metadata": {
            "tags": []
          },
          "execution_count": 55
        }
      ]
    },
    {
      "cell_type": "code",
      "metadata": {
        "colab": {
          "base_uri": "https://localhost:8080/"
        },
        "id": "LCCJihfH9aZN",
        "outputId": "3ac59318-67d8-4e90-a33a-26772265ab1d"
      },
      "source": [
        "type(t)"
      ],
      "execution_count": 56,
      "outputs": [
        {
          "output_type": "execute_result",
          "data": {
            "text/plain": [
              "tuple"
            ]
          },
          "metadata": {
            "tags": []
          },
          "execution_count": 56
        }
      ]
    },
    {
      "cell_type": "code",
      "metadata": {
        "id": "Ltk7GdTg9t9E"
      },
      "source": [
        "t=list(t)"
      ],
      "execution_count": 57,
      "outputs": []
    },
    {
      "cell_type": "code",
      "metadata": {
        "colab": {
          "base_uri": "https://localhost:8080/"
        },
        "id": "0I-BSE4R95dw",
        "outputId": "dba1ba22-b7d1-4f1d-e4ed-d65fff63c4b9"
      },
      "source": [
        "t"
      ],
      "execution_count": 58,
      "outputs": [
        {
          "output_type": "execute_result",
          "data": {
            "text/plain": [
              "[3, 4]"
            ]
          },
          "metadata": {
            "tags": []
          },
          "execution_count": 58
        }
      ]
    },
    {
      "cell_type": "code",
      "metadata": {
        "id": "iawLIR_f96T8"
      },
      "source": [
        "t.append(100)"
      ],
      "execution_count": 59,
      "outputs": []
    },
    {
      "cell_type": "code",
      "metadata": {
        "id": "1pZhfm-J97wV"
      },
      "source": [
        "t.append(200)"
      ],
      "execution_count": 60,
      "outputs": []
    },
    {
      "cell_type": "code",
      "metadata": {
        "colab": {
          "base_uri": "https://localhost:8080/"
        },
        "id": "4M-uvZTN98-1",
        "outputId": "f28f6431-09d7-4fa6-ea72-bdbae76fb5c6"
      },
      "source": [
        "t.pop(0)"
      ],
      "execution_count": 61,
      "outputs": [
        {
          "output_type": "execute_result",
          "data": {
            "text/plain": [
              "3"
            ]
          },
          "metadata": {
            "tags": []
          },
          "execution_count": 61
        }
      ]
    },
    {
      "cell_type": "code",
      "metadata": {
        "colab": {
          "base_uri": "https://localhost:8080/"
        },
        "id": "WBJXJHqM9-fi",
        "outputId": "48bfd496-0949-4285-b514-019d5174ef03"
      },
      "source": [
        "t"
      ],
      "execution_count": 62,
      "outputs": [
        {
          "output_type": "execute_result",
          "data": {
            "text/plain": [
              "[4, 100, 200]"
            ]
          },
          "metadata": {
            "tags": []
          },
          "execution_count": 62
        }
      ]
    },
    {
      "cell_type": "code",
      "metadata": {
        "id": "2UVDP3Lt9_Ax"
      },
      "source": [
        "t=tuple(t)\n"
      ],
      "execution_count": 63,
      "outputs": []
    },
    {
      "cell_type": "code",
      "metadata": {
        "id": "pnNeuVNM-A2a"
      },
      "source": [
        "#set tekrar napazir, tavali nadarand, index nadarand, nahamgen, {}, taghipazir hastand"
      ],
      "execution_count": 64,
      "outputs": []
    },
    {
      "cell_type": "code",
      "metadata": {
        "id": "4XLUPbsmHCMC"
      },
      "source": [
        "s={\"apple\",\"banana\",\"orange\",\"apple\"}"
      ],
      "execution_count": 65,
      "outputs": []
    },
    {
      "cell_type": "code",
      "metadata": {
        "colab": {
          "base_uri": "https://localhost:8080/"
        },
        "id": "dLVRvct_HHnv",
        "outputId": "018f7246-1157-47b8-d895-a6ce54a0064d"
      },
      "source": [
        "s"
      ],
      "execution_count": 66,
      "outputs": [
        {
          "output_type": "execute_result",
          "data": {
            "text/plain": [
              "{'apple', 'banana', 'orange'}"
            ]
          },
          "metadata": {
            "tags": []
          },
          "execution_count": 66
        }
      ]
    },
    {
      "cell_type": "code",
      "metadata": {
        "id": "-9LJ3kWfHIkc"
      },
      "source": [
        "a={1,2,3,4}\n",
        "b={3,4,5,6}\n"
      ],
      "execution_count": 67,
      "outputs": []
    },
    {
      "cell_type": "code",
      "metadata": {
        "colab": {
          "base_uri": "https://localhost:8080/"
        },
        "id": "t0zxwRp2ICv_",
        "outputId": "36906d04-2652-4862-e401-ea4c8fd946ba"
      },
      "source": [
        "a|b\n",
        "a.union(b)"
      ],
      "execution_count": 70,
      "outputs": [
        {
          "output_type": "execute_result",
          "data": {
            "text/plain": [
              "{1, 2, 3, 4, 5, 6}"
            ]
          },
          "metadata": {
            "tags": []
          },
          "execution_count": 70
        }
      ]
    },
    {
      "cell_type": "code",
      "metadata": {
        "colab": {
          "base_uri": "https://localhost:8080/"
        },
        "id": "6Mm9tyVwIEnV",
        "outputId": "b92dc19c-4750-4ad8-ad18-eb7cd418e303"
      },
      "source": [
        "a&b\n",
        "a.intersection(b)"
      ],
      "execution_count": 71,
      "outputs": [
        {
          "output_type": "execute_result",
          "data": {
            "text/plain": [
              "{3, 4}"
            ]
          },
          "metadata": {
            "tags": []
          },
          "execution_count": 71
        }
      ]
    },
    {
      "cell_type": "code",
      "metadata": {
        "colab": {
          "base_uri": "https://localhost:8080/"
        },
        "id": "2Uf4NidxILm1",
        "outputId": "c4f394fa-b6e4-4943-f295-c7faff4e7341"
      },
      "source": [
        "a-b\n",
        "a.difference(b)"
      ],
      "execution_count": 74,
      "outputs": [
        {
          "output_type": "execute_result",
          "data": {
            "text/plain": [
              "{1, 2}"
            ]
          },
          "metadata": {
            "tags": []
          },
          "execution_count": 74
        }
      ]
    },
    {
      "cell_type": "code",
      "metadata": {
        "colab": {
          "base_uri": "https://localhost:8080/"
        },
        "id": "_QYl2kCJIXVa",
        "outputId": "b692016d-8b5d-410c-e5b0-9b4ea23d8a21"
      },
      "source": [
        "a^b\n",
        "a.symmetric_difference(b)"
      ],
      "execution_count": 76,
      "outputs": [
        {
          "output_type": "execute_result",
          "data": {
            "text/plain": [
              "{1, 2, 5, 6}"
            ]
          },
          "metadata": {
            "tags": []
          },
          "execution_count": 76
        }
      ]
    },
    {
      "cell_type": "code",
      "metadata": {
        "id": "9myko4ArJCYZ"
      },
      "source": [
        "a.add(100)"
      ],
      "execution_count": 77,
      "outputs": []
    },
    {
      "cell_type": "code",
      "metadata": {
        "colab": {
          "base_uri": "https://localhost:8080/"
        },
        "id": "2vIUqxrwJXMY",
        "outputId": "89f127f1-f64c-4671-a99c-565d69d92af4"
      },
      "source": [
        "a"
      ],
      "execution_count": 78,
      "outputs": [
        {
          "output_type": "execute_result",
          "data": {
            "text/plain": [
              "{1, 2, 3, 4, 100}"
            ]
          },
          "metadata": {
            "tags": []
          },
          "execution_count": 78
        }
      ]
    },
    {
      "cell_type": "code",
      "metadata": {
        "id": "prL7OjhAJXxF"
      },
      "source": [
        "a.discard(100)"
      ],
      "execution_count": 79,
      "outputs": []
    },
    {
      "cell_type": "code",
      "metadata": {
        "colab": {
          "base_uri": "https://localhost:8080/"
        },
        "id": "ilnevuHWJd8X",
        "outputId": "5c301081-32e9-4a01-d39a-04a94c178241"
      },
      "source": [
        "a\n"
      ],
      "execution_count": 80,
      "outputs": [
        {
          "output_type": "execute_result",
          "data": {
            "text/plain": [
              "{1, 2, 3, 4}"
            ]
          },
          "metadata": {
            "tags": []
          },
          "execution_count": 80
        }
      ]
    },
    {
      "cell_type": "code",
      "metadata": {
        "id": "8mx-hR_tJe8j"
      },
      "source": [
        "a.discard(100)"
      ],
      "execution_count": 81,
      "outputs": []
    },
    {
      "cell_type": "code",
      "metadata": {
        "colab": {
          "base_uri": "https://localhost:8080/"
        },
        "id": "eyFq8xHQJhAT",
        "outputId": "b0e9ab2a-4880-4745-87e7-a23ce1ef960d"
      },
      "source": [
        "a.pop()"
      ],
      "execution_count": 82,
      "outputs": [
        {
          "output_type": "execute_result",
          "data": {
            "text/plain": [
              "1"
            ]
          },
          "metadata": {
            "tags": []
          },
          "execution_count": 82
        }
      ]
    },
    {
      "cell_type": "code",
      "metadata": {
        "colab": {
          "base_uri": "https://localhost:8080/"
        },
        "id": "YuG2zU5zJ15v",
        "outputId": "0c14da9c-e51e-4d63-b592-292fc787423e"
      },
      "source": [
        "a\n"
      ],
      "execution_count": 83,
      "outputs": [
        {
          "output_type": "execute_result",
          "data": {
            "text/plain": [
              "{2, 3, 4}"
            ]
          },
          "metadata": {
            "tags": []
          },
          "execution_count": 83
        }
      ]
    },
    {
      "cell_type": "code",
      "metadata": {
        "colab": {
          "base_uri": "https://localhost:8080/"
        },
        "id": "9ZaLSb99J29g",
        "outputId": "511598c5-ddd7-4a6b-8214-b5bc52c242cd"
      },
      "source": [
        "a.issubset(b)"
      ],
      "execution_count": 84,
      "outputs": [
        {
          "output_type": "execute_result",
          "data": {
            "text/plain": [
              "False"
            ]
          },
          "metadata": {
            "tags": []
          },
          "execution_count": 84
        }
      ]
    },
    {
      "cell_type": "code",
      "metadata": {
        "colab": {
          "base_uri": "https://localhost:8080/"
        },
        "id": "C10wlrOPKBJP",
        "outputId": "290a38dd-fe0e-4bb5-f52e-40a2a99435b4"
      },
      "source": [
        "a\n"
      ],
      "execution_count": 85,
      "outputs": [
        {
          "output_type": "execute_result",
          "data": {
            "text/plain": [
              "{2, 3, 4}"
            ]
          },
          "metadata": {
            "tags": []
          },
          "execution_count": 85
        }
      ]
    },
    {
      "cell_type": "code",
      "metadata": {
        "colab": {
          "base_uri": "https://localhost:8080/"
        },
        "id": "1NuN0dYzKCv-",
        "outputId": "33f898b9-c4cb-407a-fcd5-2d2869bab95a"
      },
      "source": [
        "{2,3}.issubset(a)\n",
        "{2,3}<(a)\n"
      ],
      "execution_count": 88,
      "outputs": [
        {
          "output_type": "execute_result",
          "data": {
            "text/plain": [
              "True"
            ]
          },
          "metadata": {
            "tags": []
          },
          "execution_count": 88
        }
      ]
    },
    {
      "cell_type": "code",
      "metadata": {
        "colab": {
          "base_uri": "https://localhost:8080/"
        },
        "id": "a9W-yHPJKHOs",
        "outputId": "d0ac1e78-31df-4b47-f3d7-7fd280da8659"
      },
      "source": [
        "{2,3,4,5,6}>(a)"
      ],
      "execution_count": 89,
      "outputs": [
        {
          "output_type": "execute_result",
          "data": {
            "text/plain": [
              "True"
            ]
          },
          "metadata": {
            "tags": []
          },
          "execution_count": 89
        }
      ]
    },
    {
      "cell_type": "code",
      "metadata": {
        "colab": {
          "base_uri": "https://localhost:8080/"
        },
        "id": "W6Gqh7_qK-PV",
        "outputId": "19e10c15-c70d-4121-b978-a08a1df195ab"
      },
      "source": [
        "a.isdisjoint(b)"
      ],
      "execution_count": 90,
      "outputs": [
        {
          "output_type": "execute_result",
          "data": {
            "text/plain": [
              "False"
            ]
          },
          "metadata": {
            "tags": []
          },
          "execution_count": 90
        }
      ]
    },
    {
      "cell_type": "code",
      "metadata": {
        "id": "lUlDjtTcLIu_"
      },
      "source": [
        "#dict tekrar napazir, tavali nadarand, index darad, nahamgen, {}, taghipazir hastand"
      ],
      "execution_count": 91,
      "outputs": []
    },
    {
      "cell_type": "code",
      "metadata": {
        "colab": {
          "base_uri": "https://localhost:8080/"
        },
        "id": "tQ-wU6xWMEsr",
        "outputId": "fb0a8cf9-a44a-4ce0-ea7d-950cdbb475c6"
      },
      "source": [
        "d={\"color\":\"red\",\n",
        "   \"year\":2000,\n",
        "   \"brand\":'zara'}\n",
        "print(d)   "
      ],
      "execution_count": 92,
      "outputs": [
        {
          "output_type": "stream",
          "text": [
            "{'color': 'red', 'year': 2000, 'brand': 'zara'}\n"
          ],
          "name": "stdout"
        }
      ]
    },
    {
      "cell_type": "code",
      "metadata": {
        "id": "4bNUINyWMWwH"
      },
      "source": [
        "d['year']=2020"
      ],
      "execution_count": 93,
      "outputs": []
    },
    {
      "cell_type": "code",
      "metadata": {
        "colab": {
          "base_uri": "https://localhost:8080/"
        },
        "id": "2bMWP5iYMak8",
        "outputId": "ad11dd1d-a084-4394-9635-31c0ca74a7ce"
      },
      "source": [
        "d\n"
      ],
      "execution_count": 94,
      "outputs": [
        {
          "output_type": "execute_result",
          "data": {
            "text/plain": [
              "{'brand': 'zara', 'color': 'red', 'year': 2020}"
            ]
          },
          "metadata": {
            "tags": []
          },
          "execution_count": 94
        }
      ]
    },
    {
      "cell_type": "code",
      "metadata": {
        "id": "QTpL6APTMbnj"
      },
      "source": [
        "d['size']=\"M\""
      ],
      "execution_count": 95,
      "outputs": []
    },
    {
      "cell_type": "code",
      "metadata": {
        "colab": {
          "base_uri": "https://localhost:8080/"
        },
        "id": "e-XdeedaMgsN",
        "outputId": "22818241-3e51-4f0f-a5a6-d3b17d3948e8"
      },
      "source": [
        "d"
      ],
      "execution_count": 96,
      "outputs": [
        {
          "output_type": "execute_result",
          "data": {
            "text/plain": [
              "{'brand': 'zara', 'color': 'red', 'size': 'M', 'year': 2020}"
            ]
          },
          "metadata": {
            "tags": []
          },
          "execution_count": 96
        }
      ]
    },
    {
      "cell_type": "code",
      "metadata": {
        "colab": {
          "base_uri": "https://localhost:8080/"
        },
        "id": "UGp3m18EMhOj",
        "outputId": "038bb07f-0d23-4da0-af04-3da91e45adcc"
      },
      "source": [
        "for item in d:\n",
        "  print(item)"
      ],
      "execution_count": 98,
      "outputs": [
        {
          "output_type": "stream",
          "text": [
            "color\n",
            "year\n",
            "brand\n",
            "size\n"
          ],
          "name": "stdout"
        }
      ]
    },
    {
      "cell_type": "code",
      "metadata": {
        "colab": {
          "base_uri": "https://localhost:8080/"
        },
        "id": "p_j-l-jmMmQ5",
        "outputId": "82a41cce-5666-43dd-aa82-79e2766fc683"
      },
      "source": [
        "for item in d.items():\n",
        "  print(item)"
      ],
      "execution_count": 99,
      "outputs": [
        {
          "output_type": "stream",
          "text": [
            "('color', 'red')\n",
            "('year', 2020)\n",
            "('brand', 'zara')\n",
            "('size', 'M')\n"
          ],
          "name": "stdout"
        }
      ]
    },
    {
      "cell_type": "code",
      "metadata": {
        "colab": {
          "base_uri": "https://localhost:8080/"
        },
        "id": "v10y6Qn4NrBe",
        "outputId": "d39f59f1-3ea7-4b9f-80ee-eb61ea4caf63"
      },
      "source": [
        "for item in d.values():\n",
        "  print(item)"
      ],
      "execution_count": 100,
      "outputs": [
        {
          "output_type": "stream",
          "text": [
            "red\n",
            "2020\n",
            "zara\n",
            "M\n"
          ],
          "name": "stdout"
        }
      ]
    },
    {
      "cell_type": "code",
      "metadata": {
        "colab": {
          "base_uri": "https://localhost:8080/"
        },
        "id": "Vnzus_iAOqal",
        "outputId": "a8cfcdd9-ccf9-45fd-bd78-1a478b6286c7"
      },
      "source": [
        "d.popitem()"
      ],
      "execution_count": 102,
      "outputs": [
        {
          "output_type": "execute_result",
          "data": {
            "text/plain": [
              "('size', 'M')"
            ]
          },
          "metadata": {
            "tags": []
          },
          "execution_count": 102
        }
      ]
    },
    {
      "cell_type": "code",
      "metadata": {
        "colab": {
          "base_uri": "https://localhost:8080/"
        },
        "id": "JubbdQG0OzO2",
        "outputId": "bc5b23db-e3e7-4282-a9b5-0f889773cf05"
      },
      "source": [
        "d"
      ],
      "execution_count": 103,
      "outputs": [
        {
          "output_type": "execute_result",
          "data": {
            "text/plain": [
              "{'brand': 'zara', 'color': 'red', 'year': 2020}"
            ]
          },
          "metadata": {
            "tags": []
          },
          "execution_count": 103
        }
      ]
    },
    {
      "cell_type": "code",
      "metadata": {
        "colab": {
          "base_uri": "https://localhost:8080/",
          "height": 35
        },
        "id": "XLCOA58iO1vc",
        "outputId": "022a3f76-86c5-4fc1-e2e8-5deebdc612a4"
      },
      "source": [
        "d.setdefault('size','M')"
      ],
      "execution_count": 104,
      "outputs": [
        {
          "output_type": "execute_result",
          "data": {
            "application/vnd.google.colaboratory.intrinsic+json": {
              "type": "string"
            },
            "text/plain": [
              "'M'"
            ]
          },
          "metadata": {
            "tags": []
          },
          "execution_count": 104
        }
      ]
    },
    {
      "cell_type": "code",
      "metadata": {
        "colab": {
          "base_uri": "https://localhost:8080/"
        },
        "id": "odjpW2OKPXBc",
        "outputId": "37cb9f6e-9aea-47f7-f822-e672fd4ffe5f"
      },
      "source": [
        "d\n"
      ],
      "execution_count": 105,
      "outputs": [
        {
          "output_type": "execute_result",
          "data": {
            "text/plain": [
              "{'brand': 'zara', 'color': 'red', 'size': 'M', 'year': 2020}"
            ]
          },
          "metadata": {
            "tags": []
          },
          "execution_count": 105
        }
      ]
    },
    {
      "cell_type": "code",
      "metadata": {
        "id": "d3AUFdXrPYV0"
      },
      "source": [
        "#str \"\" '', index, taghirpazir nist, sequence,  hamgen"
      ],
      "execution_count": 106,
      "outputs": []
    },
    {
      "cell_type": "code",
      "metadata": {
        "id": "hI2xyQbtTJtU"
      },
      "source": [
        "s=\"Hello World!\"\n"
      ],
      "execution_count": 107,
      "outputs": []
    },
    {
      "cell_type": "code",
      "metadata": {
        "colab": {
          "base_uri": "https://localhost:8080/",
          "height": 35
        },
        "id": "q2ju7HK5TPJr",
        "outputId": "367904da-6721-4e8e-cc4c-a5dcf75834b8"
      },
      "source": [
        "s[:5]"
      ],
      "execution_count": 108,
      "outputs": [
        {
          "output_type": "execute_result",
          "data": {
            "application/vnd.google.colaboratory.intrinsic+json": {
              "type": "string"
            },
            "text/plain": [
              "'Hello'"
            ]
          },
          "metadata": {
            "tags": []
          },
          "execution_count": 108
        }
      ]
    },
    {
      "cell_type": "code",
      "metadata": {
        "colab": {
          "base_uri": "https://localhost:8080/",
          "height": 35
        },
        "id": "wVF0Cs7PTZYT",
        "outputId": "76d35540-90a7-4366-a580-aab4a18f7f78"
      },
      "source": [
        "s[5:]"
      ],
      "execution_count": 109,
      "outputs": [
        {
          "output_type": "execute_result",
          "data": {
            "application/vnd.google.colaboratory.intrinsic+json": {
              "type": "string"
            },
            "text/plain": [
              "' World!'"
            ]
          },
          "metadata": {
            "tags": []
          },
          "execution_count": 109
        }
      ]
    },
    {
      "cell_type": "code",
      "metadata": {
        "colab": {
          "base_uri": "https://localhost:8080/",
          "height": 35
        },
        "id": "PEkiv9IITcpo",
        "outputId": "b05a7830-3005-4616-cfcf-149ff58cbc86"
      },
      "source": [
        "s[2:8:3]"
      ],
      "execution_count": 110,
      "outputs": [
        {
          "output_type": "execute_result",
          "data": {
            "application/vnd.google.colaboratory.intrinsic+json": {
              "type": "string"
            },
            "text/plain": [
              "'l '"
            ]
          },
          "metadata": {
            "tags": []
          },
          "execution_count": 110
        }
      ]
    },
    {
      "cell_type": "code",
      "metadata": {
        "colab": {
          "base_uri": "https://localhost:8080/",
          "height": 35
        },
        "id": "TzZJxtcBTfHk",
        "outputId": "279abc47-25e0-4ea5-e97f-1a15848fcce6"
      },
      "source": [
        "s[8:2:2]"
      ],
      "execution_count": 111,
      "outputs": [
        {
          "output_type": "execute_result",
          "data": {
            "application/vnd.google.colaboratory.intrinsic+json": {
              "type": "string"
            },
            "text/plain": [
              "''"
            ]
          },
          "metadata": {
            "tags": []
          },
          "execution_count": 111
        }
      ]
    },
    {
      "cell_type": "code",
      "metadata": {
        "colab": {
          "base_uri": "https://localhost:8080/",
          "height": 35
        },
        "id": "oHJgozV-TpAv",
        "outputId": "d533e5e4-0012-4fc1-9a1c-09f1d5da5472"
      },
      "source": [
        "s[8:2:-2]"
      ],
      "execution_count": 112,
      "outputs": [
        {
          "output_type": "execute_result",
          "data": {
            "application/vnd.google.colaboratory.intrinsic+json": {
              "type": "string"
            },
            "text/plain": [
              "'rWo'"
            ]
          },
          "metadata": {
            "tags": []
          },
          "execution_count": 112
        }
      ]
    },
    {
      "cell_type": "code",
      "metadata": {
        "colab": {
          "base_uri": "https://localhost:8080/",
          "height": 35
        },
        "id": "qSi2c23VTwj7",
        "outputId": "024793df-0598-4d31-f090-80295100c7cd"
      },
      "source": [
        "s[::-1]"
      ],
      "execution_count": 113,
      "outputs": [
        {
          "output_type": "execute_result",
          "data": {
            "application/vnd.google.colaboratory.intrinsic+json": {
              "type": "string"
            },
            "text/plain": [
              "'!dlroW olleH'"
            ]
          },
          "metadata": {
            "tags": []
          },
          "execution_count": 113
        }
      ]
    },
    {
      "cell_type": "code",
      "metadata": {
        "colab": {
          "base_uri": "https://localhost:8080/"
        },
        "id": "EwoOdTB1T1iv",
        "outputId": "d76d71b4-737c-4f33-ba7b-076749836431"
      },
      "source": [
        "s=input(\"pls enter a palindrom string\")\n",
        "if s==s[::-1]:\n",
        "  print(f\"{s} is palindrom string\")\n",
        "else:\n",
        "  print(f\"{s} is not palindrom string\")\n"
      ],
      "execution_count": 114,
      "outputs": [
        {
          "output_type": "stream",
          "text": [
            "pls enter a palindrom stringداماد\n",
            "داماد is palindrom string\n"
          ],
          "name": "stdout"
        }
      ]
    },
    {
      "cell_type": "code",
      "metadata": {
        "id": "BII6yeO2VDLk"
      },
      "source": [
        "s='abc'\n"
      ],
      "execution_count": 115,
      "outputs": []
    },
    {
      "cell_type": "code",
      "metadata": {
        "colab": {
          "base_uri": "https://localhost:8080/",
          "height": 164
        },
        "id": "KLlYnI5hVXJs",
        "outputId": "a6a13fcb-e967-45db-9a31-c8c37851aff3"
      },
      "source": [
        "s[1]='g'"
      ],
      "execution_count": 116,
      "outputs": [
        {
          "output_type": "error",
          "ename": "TypeError",
          "evalue": "ignored",
          "traceback": [
            "\u001b[0;31m---------------------------------------------------------------------------\u001b[0m",
            "\u001b[0;31mTypeError\u001b[0m                                 Traceback (most recent call last)",
            "\u001b[0;32m<ipython-input-116-80044950e623>\u001b[0m in \u001b[0;36m<module>\u001b[0;34m()\u001b[0m\n\u001b[0;32m----> 1\u001b[0;31m \u001b[0ms\u001b[0m\u001b[0;34m[\u001b[0m\u001b[0;36m1\u001b[0m\u001b[0;34m]\u001b[0m\u001b[0;34m=\u001b[0m\u001b[0;34m'g'\u001b[0m\u001b[0;34m\u001b[0m\u001b[0;34m\u001b[0m\u001b[0m\n\u001b[0m",
            "\u001b[0;31mTypeError\u001b[0m: 'str' object does not support item assignment"
          ]
        }
      ]
    },
    {
      "cell_type": "code",
      "metadata": {
        "id": "SZcksIAdVZoJ"
      },
      "source": [
        "s=s[:1]+'g'+s[2:]"
      ],
      "execution_count": 117,
      "outputs": []
    },
    {
      "cell_type": "code",
      "metadata": {
        "colab": {
          "base_uri": "https://localhost:8080/",
          "height": 35
        },
        "id": "PDsX6MS6Vg01",
        "outputId": "3ffca292-a58c-4526-b87f-2238ef3a022b"
      },
      "source": [
        "s"
      ],
      "execution_count": 118,
      "outputs": [
        {
          "output_type": "execute_result",
          "data": {
            "application/vnd.google.colaboratory.intrinsic+json": {
              "type": "string"
            },
            "text/plain": [
              "'agc'"
            ]
          },
          "metadata": {
            "tags": []
          },
          "execution_count": 118
        }
      ]
    },
    {
      "cell_type": "code",
      "metadata": {
        "colab": {
          "base_uri": "https://localhost:8080/"
        },
        "id": "8HwpJ4mbVhuw",
        "outputId": "be707d29-b4e0-495a-fb2d-ede33db25edf"
      },
      "source": [
        "s.count('a')"
      ],
      "execution_count": 119,
      "outputs": [
        {
          "output_type": "execute_result",
          "data": {
            "text/plain": [
              "1"
            ]
          },
          "metadata": {
            "tags": []
          },
          "execution_count": 119
        }
      ]
    },
    {
      "cell_type": "code",
      "metadata": {
        "colab": {
          "base_uri": "https://localhost:8080/",
          "height": 35
        },
        "id": "mhvbIbCsV_Ak",
        "outputId": "8ff6f512-2126-4c56-8f96-5d2627c994b3"
      },
      "source": [
        "s.capitalize()"
      ],
      "execution_count": 120,
      "outputs": [
        {
          "output_type": "execute_result",
          "data": {
            "application/vnd.google.colaboratory.intrinsic+json": {
              "type": "string"
            },
            "text/plain": [
              "'Agc'"
            ]
          },
          "metadata": {
            "tags": []
          },
          "execution_count": 120
        }
      ]
    },
    {
      "cell_type": "code",
      "metadata": {
        "colab": {
          "base_uri": "https://localhost:8080/",
          "height": 35
        },
        "id": "tkl1MPNvWBDC",
        "outputId": "99bfc569-e838-439a-8748-952dd5411498"
      },
      "source": [
        "s.upper()\n"
      ],
      "execution_count": 121,
      "outputs": [
        {
          "output_type": "execute_result",
          "data": {
            "application/vnd.google.colaboratory.intrinsic+json": {
              "type": "string"
            },
            "text/plain": [
              "'AGC'"
            ]
          },
          "metadata": {
            "tags": []
          },
          "execution_count": 121
        }
      ]
    },
    {
      "cell_type": "code",
      "metadata": {
        "colab": {
          "base_uri": "https://localhost:8080/",
          "height": 35
        },
        "id": "RkcricHYWEMa",
        "outputId": "7ff276dd-b4bc-44f2-b776-654b032969aa"
      },
      "source": [
        "s.lower()"
      ],
      "execution_count": 122,
      "outputs": [
        {
          "output_type": "execute_result",
          "data": {
            "application/vnd.google.colaboratory.intrinsic+json": {
              "type": "string"
            },
            "text/plain": [
              "'agc'"
            ]
          },
          "metadata": {
            "tags": []
          },
          "execution_count": 122
        }
      ]
    },
    {
      "cell_type": "code",
      "metadata": {
        "colab": {
          "base_uri": "https://localhost:8080/"
        },
        "id": "WljW43l9WF6V",
        "outputId": "71840af0-de12-49fd-91b7-3d0d81ff23be"
      },
      "source": [
        "s.endswith('gc')"
      ],
      "execution_count": 123,
      "outputs": [
        {
          "output_type": "execute_result",
          "data": {
            "text/plain": [
              "True"
            ]
          },
          "metadata": {
            "tags": []
          },
          "execution_count": 123
        }
      ]
    },
    {
      "cell_type": "code",
      "metadata": {
        "colab": {
          "base_uri": "https://localhost:8080/"
        },
        "id": "_RW2eMtmWKoO",
        "outputId": "11485aa2-6692-48a0-a783-25de20d330ec"
      },
      "source": [
        "s.startswith('ab')"
      ],
      "execution_count": 124,
      "outputs": [
        {
          "output_type": "execute_result",
          "data": {
            "text/plain": [
              "False"
            ]
          },
          "metadata": {
            "tags": []
          },
          "execution_count": 124
        }
      ]
    },
    {
      "cell_type": "code",
      "metadata": {
        "id": "itb_4tGeWO_A"
      },
      "source": [
        "s=\"Hello world. How are u?\""
      ],
      "execution_count": 125,
      "outputs": []
    },
    {
      "cell_type": "code",
      "metadata": {
        "colab": {
          "base_uri": "https://localhost:8080/"
        },
        "id": "442frF2LWX0P",
        "outputId": "639c484f-a718-465e-c3ee-9f1acd3099bd"
      },
      "source": [
        "s.split()"
      ],
      "execution_count": 126,
      "outputs": [
        {
          "output_type": "execute_result",
          "data": {
            "text/plain": [
              "['Hello', 'world.', 'How', 'are', 'u?']"
            ]
          },
          "metadata": {
            "tags": []
          },
          "execution_count": 126
        }
      ]
    },
    {
      "cell_type": "code",
      "metadata": {
        "colab": {
          "base_uri": "https://localhost:8080/",
          "height": 35
        },
        "id": "PvbJHCscWZuQ",
        "outputId": "270c7055-e5d5-4cc9-be94-1396528243af"
      },
      "source": [
        "s='    '+s+'    '\n",
        "s\n"
      ],
      "execution_count": 127,
      "outputs": [
        {
          "output_type": "execute_result",
          "data": {
            "application/vnd.google.colaboratory.intrinsic+json": {
              "type": "string"
            },
            "text/plain": [
              "'    Hello world. How are u?    '"
            ]
          },
          "metadata": {
            "tags": []
          },
          "execution_count": 127
        }
      ]
    },
    {
      "cell_type": "code",
      "metadata": {
        "id": "x3HWVQMiWiU_"
      },
      "source": [
        "s=s.strip()"
      ],
      "execution_count": 128,
      "outputs": []
    },
    {
      "cell_type": "code",
      "metadata": {
        "colab": {
          "base_uri": "https://localhost:8080/"
        },
        "id": "JDYwzFM7Wk2b",
        "outputId": "9f9c0ca6-4a0e-4c58-fd60-b0b0c1e74233"
      },
      "source": [
        "she=\"\"\"William Shakespeare (bapt. 26 April 1564 – 23 April 1616)[a] was an English playwright, poet, and actor, widely regarded as the greatest writer in the English language and the world's greatest dramatist.[2][3][4] He is often called England's national poet and the \"Bard of Avon\" (or simply \"the Bard\").[5][b] His extant works, including collaborations, consist of some 39 plays,[c] 154 sonnets, three long narrative poems, and a few other verses, some of uncertain authorship. His plays have been translated into every major living language and are performed more often than those of any other playwright.[7] They also continue to be studied and reinterpreted.\n",
        "\n",
        "Shakespeare was born and raised in Stratford-upon-Avon, Warwickshire. At the age of 18, he married Anne Hathaway, with whom he had three children: Susanna and twins Hamnet and Judith. Sometime between 1585 and 1592, he began a successful career in London as an actor, writer, and part-owner of a playing company called the Lord Chamberlain's Men, later known as the King's Men. At age 49 (around 1613), he appears to have retired to Stratford, where he died three years later. Few records of Shakespeare's private life survive; this has stimulated considerable speculation about such matters as his physical appearance, his sexuality, his religious beliefs, and whether the works attributed to him were written by others.[8][9][10]\n",
        "\n",
        "Shakespeare produced most of his known works between 1589 and 1613.[11][12][d] His early plays were primarily comedies and histories and are regarded as some of the best work produced in these genres. He then wrote mainly tragedies until 1608, among them Hamlet, Romeo and Juliet, Othello, King Lear, and Macbeth, all considered to be among the finest works in the English language.[2][3][4] In the last phase of his life, he wrote tragicomedies (also known as romances) and collaborated with other playwrights.\n",
        "\n",
        "Many of Shakespeare's plays were published in editions of varying quality and accuracy in his lifetime. However, in 1623, two fellow actors and friends of Shakespeare's, John Heminges and Henry Condell, published a more definitive text known as the First Folio, a posthumous collected edition of Shakespeare's dramatic works that included all but two of his plays.[13] Its Preface was a prescient poem by Ben Jonson that hailed Shakespeare with the now famous epithet: \"not of an age, but for all time\".[13]\n",
        "\"\"\"\n",
        "omitted='()[]-–.,;!@0123456789*&^%$#\"'\n",
        "for x in omitted: \n",
        "  she=she.replace(x,'')\n",
        "x='\\n'\n",
        "she=she.replace(x,' ')\n",
        "x='    '\n",
        "she=she.replace(x,' ')\n",
        "x='   '\n",
        "she=she.replace(x,' ')\n",
        "x='  '\n",
        "she=she.replace(x,' ')\n",
        "# print(she)\n",
        "sheLs=she.split()\n",
        "print(sheLs)\n",
        "sheSet=set(sheLs)\n",
        "print(sheSet)\n",
        "sheDict={'life':\"زندگی\",\n",
        "         'epithet:':\"لقب\",\n",
        "         'Preface':\"پیشگفتار\",\n",
        "         'major':\"عمده\",\n",
        "         'London':\"لندن\",\n",
        "         'wrote':\"نوشته شده\",\n",
        "         'Many':\"بسیاری\",\n",
        "         'Jonson':\"جانسون\",\n",
        "         'sexuality':\"جنسیت\",\n",
        "         'and':\"و\",\n",
        "         'other':\"دیگر\",\n",
        "}\n",
        "shePer=\"\"\n",
        "for item in sheLs:\n",
        "  if item in sheDict:\n",
        "    shePer+=sheDict[item]+\" \"\n",
        "  else:\n",
        "    shePer+=item+\" \"\n",
        "print(shePer)"
      ],
      "execution_count": 146,
      "outputs": [
        {
          "output_type": "stream",
          "text": [
            "['William', 'Shakespeare', 'bapt', 'April', 'April', 'a', 'was', 'an', 'English', 'playwright', 'poet', 'and', 'actor', 'widely', 'regarded', 'as', 'the', 'greatest', 'writer', 'in', 'the', 'English', 'language', 'and', 'the', \"world's\", 'greatest', 'dramatist', 'He', 'is', 'often', 'called', \"England's\", 'national', 'poet', 'and', 'the', 'Bard', 'of', 'Avon', 'or', 'simply', 'the', 'Bardb', 'His', 'extant', 'works', 'including', 'collaborations', 'consist', 'of', 'some', 'playsc', 'sonnets', 'three', 'long', 'narrative', 'poems', 'and', 'a', 'few', 'other', 'verses', 'some', 'of', 'uncertain', 'authorship', 'His', 'plays', 'have', 'been', 'translated', 'into', 'every', 'major', 'living', 'language', 'and', 'are', 'performed', 'more', 'often', 'than', 'those', 'of', 'any', 'other', 'playwright', 'They', 'also', 'continue', 'to', 'be', 'studied', 'and', 'reinterpreted', 'Shakespeare', 'was', 'born', 'and', 'raised', 'in', 'StratforduponAvon', 'Warwickshire', 'At', 'the', 'age', 'of', 'he', 'married', 'Anne', 'Hathaway', 'with', 'whom', 'he', 'had', 'three', 'children:', 'Susanna', 'and', 'twins', 'Hamnet', 'and', 'Judith', 'Sometime', 'between', 'and', 'he', 'began', 'a', 'successful', 'career', 'in', 'London', 'as', 'an', 'actor', 'writer', 'and', 'partowner', 'of', 'a', 'playing', 'company', 'called', 'the', 'Lord', \"Chamberlain's\", 'Men', 'later', 'known', 'as', 'the', \"King's\", 'Men', 'At', 'age', 'around', 'he', 'appears', 'to', 'have', 'retired', 'to', 'Stratford', 'where', 'he', 'died', 'three', 'years', 'later', 'Few', 'records', 'of', \"Shakespeare's\", 'private', 'life', 'survive', 'this', 'has', 'stimulated', 'considerable', 'speculation', 'about', 'such', 'matters', 'as', 'his', 'physical', 'appearance', 'his', 'sexuality', 'his', 'religious', 'beliefs', 'and', 'whether', 'the', 'works', 'attributed', 'to', 'him', 'were', 'written', 'by', 'others', 'Shakespeare', 'produced', 'most', 'of', 'his', 'known', 'works', 'between', 'and', 'd', 'His', 'early', 'plays', 'were', 'primarily', 'comedies', 'and', 'histories', 'and', 'are', 'regarded', 'as', 'some', 'of', 'the', 'best', 'work', 'produced', 'in', 'these', 'genres', 'He', 'then', 'wrote', 'mainly', 'tragedies', 'until', 'among', 'them', 'Hamlet', 'Romeo', 'and', 'Juliet', 'Othello', 'King', 'Lear', 'and', 'Macbeth', 'all', 'considered', 'to', 'be', 'among', 'the', 'finest', 'works', 'in', 'the', 'English', 'language', 'In', 'the', 'last', 'phase', 'of', 'his', 'life', 'he', 'wrote', 'tragicomedies', 'also', 'known', 'as', 'romances', 'and', 'collaborated', 'with', 'other', 'playwrights', 'Many', 'of', \"Shakespeare's\", 'plays', 'were', 'published', 'in', 'editions', 'of', 'varying', 'quality', 'and', 'accuracy', 'in', 'his', 'lifetime', 'However', 'in', 'two', 'fellow', 'actors', 'and', 'friends', 'of', \"Shakespeare's\", 'John', 'Heminges', 'and', 'Henry', 'Condell', 'published', 'a', 'more', 'definitive', 'text', 'known', 'as', 'the', 'First', 'Folio', 'a', 'posthumous', 'collected', 'edition', 'of', \"Shakespeare's\", 'dramatic', 'works', 'that', 'included', 'all', 'but', 'two', 'of', 'his', 'plays', 'Its', 'Preface', 'was', 'a', 'prescient', 'poem', 'by', 'Ben', 'Jonson', 'that', 'hailed', 'Shakespeare', 'with', 'the', 'now', 'famous', 'epithet:', 'not', 'of', 'an', 'age', 'but', 'for', 'all', 'time']\n",
            "{'life', 'epithet:', 'Preface', 'major', 'London', 'wrote', 'Many', 'Jonson', 'sexuality', 'and', 'other', 'considered', 'Sometime', 'matters', 'last', 'best', 'around', 'dramatist', 'comedies', 'that', 'edition', 'Bardb', 'is', 'company', 'known', 'often', 'has', 'Othello', 'They', 'famous', 'English', 'of', 'At', 'text', 'by', 'to', 'physical', 'his', 'appearance', 'reinterpreted', 'a', 'time', 'among', 'where', 'have', 'long', 'playwrights', 'those', 'an', \"Shakespeare's\", \"world's\", 'or', 'uncertain', 'His', 'between', 'national', 'poet', 'any', 'In', 'lifetime', 'poem', 'hailed', 'tragedies', 'he', 'performed', 'Lear', 'collaborated', 'Judith', 'However', 'born', 'Hathaway', 'this', 'had', 'consist', 'was', 'such', 'about', 'tragicomedies', 'Ben', 'fellow', 'into', 'some', 'authorship', 'survive', 'Henry', 'quality', 'genres', 'Bard', 'for', 'including', 'narrative', 'whether', 'died', 'be', 'retired', 'written', 'been', 'translated', 'Few', 'whom', 'Hamnet', 'poems', 'continue', 'Men', 'considerable', 'him', 'actors', 'years', 'd', 'Heminges', 'Romeo', 'Avon', 'the', 'produced', 'Its', 'stimulated', 'April', 'Warwickshire', 'began', 'Hamlet', 'early', 'private', 'accuracy', 'dramatic', 'histories', 'are', 'playwright', 'speculation', 'attributed', 'not', 'were', 'posthumous', 'living', 'Anne', 'later', 'regarded', 'age', 'Lord', 'extant', 'romances', 'married', 'verses', 'varying', 'writer', 'these', 'Shakespeare', 'bapt', \"Chamberlain's\", 'them', 'twins', 'collected', 'mainly', 'included', 'Juliet', 'every', 'in', 'Condell', 'religious', 'studied', 'published', 'Folio', 'language', 'called', 'StratforduponAvon', 'sonnets', 'successful', 'He', 'beliefs', 'Macbeth', 'friends', \"King's\", 'more', 'partowner', 'finest', 'collaborations', 'widely', 'appears', 'as', 'plays', 'all', 'editions', 'others', 'phase', 'playing', 'records', 'also', 'most', 'now', 'playsc', 'First', 'few', 'works', \"England's\", 'work', 'until', 'then', 'actor', 'three', 'King', 'greatest', 'Susanna', 'simply', 'career', 'primarily', 'children:', 'definitive', 'but', 'prescient', 'William', 'John', 'raised', 'two', 'than', 'with', 'Stratford'}\n",
            "William Shakespeare bapt April April a was an English playwright poet و actor widely regarded as the greatest writer in the English language و the world's greatest dramatist He is often called England's national poet و the Bard of Avon or simply the Bardb His extant works including collaborations consist of some playsc sonnets three long narrative poems و a few دیگر verses some of uncertain authorship His plays have been translated into every عمده living language و are performed more often than those of any دیگر playwright They also continue to be studied و reinterpreted Shakespeare was born و raised in StratforduponAvon Warwickshire At the age of he married Anne Hathaway with whom he had three children: Susanna و twins Hamnet و Judith Sometime between و he began a successful career in لندن as an actor writer و partowner of a playing company called the Lord Chamberlain's Men later known as the King's Men At age around he appears to have retired to Stratford where he died three years later Few records of Shakespeare's private زندگی survive this has stimulated considerable speculation about such matters as his physical appearance his جنسیت his religious beliefs و whether the works attributed to him were written by others Shakespeare produced most of his known works between و d His early plays were primarily comedies و histories و are regarded as some of the best work produced in these genres He then نوشته شده mainly tragedies until among them Hamlet Romeo و Juliet Othello King Lear و Macbeth all considered to be among the finest works in the English language In the last phase of his زندگی he نوشته شده tragicomedies also known as romances و collaborated with دیگر playwrights بسیاری of Shakespeare's plays were published in editions of varying quality و accuracy in his lifetime However in two fellow actors و friends of Shakespeare's John Heminges و Henry Condell published a more definitive text known as the First Folio a posthumous collected edition of Shakespeare's dramatic works that included all but two of his plays Its پیشگفتار was a prescient poem by Ben جانسون that hailed Shakespeare with the now famous لقب not of an age but for all time \n"
          ],
          "name": "stdout"
        }
      ]
    },
    {
      "cell_type": "code",
      "metadata": {
        "colab": {
          "base_uri": "https://localhost:8080/"
        },
        "id": "QmrpNp6Wff28",
        "outputId": "2766ea57-ada2-4898-ee11-d42ebeef77a2"
      },
      "source": [
        "len(sheLs),len(sheSet)"
      ],
      "execution_count": 143,
      "outputs": [
        {
          "output_type": "execute_result",
          "data": {
            "text/plain": [
              "(366, 215)"
            ]
          },
          "metadata": {
            "tags": []
          },
          "execution_count": 143
        }
      ]
    },
    {
      "cell_type": "code",
      "metadata": {
        "id": "jKnBJLeSlKBM"
      },
      "source": [
        ""
      ],
      "execution_count": null,
      "outputs": []
    }
  ]
}