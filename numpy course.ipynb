{
 "cells": [
  {
   "cell_type": "code",
   "execution_count": 1,
   "id": "fd1ab84b",
   "metadata": {},
   "outputs": [
    {
     "name": "stdout",
     "output_type": "stream",
     "text": [
      "Hello\n"
     ]
    }
   ],
   "source": [
    "print(\"Hello\")"
   ]
  },
  {
   "cell_type": "code",
   "execution_count": 2,
   "id": "d6caf0ec",
   "metadata": {},
   "outputs": [],
   "source": [
    "!pip install numpy\n",
    "import numpy as np"
   ]
  },
  {
   "cell_type": "code",
   "execution_count": 5,
   "id": "ca62aa2a",
   "metadata": {},
   "outputs": [
    {
     "name": "stdout",
     "output_type": "stream",
     "text": [
      "1.21.0\n"
     ]
    }
   ],
   "source": [
    "print(np.__version__)"
   ]
  },
  {
   "cell_type": "code",
   "execution_count": 11,
   "id": "f0dc33ff",
   "metadata": {},
   "outputs": [
    {
     "name": "stdout",
     "output_type": "stream",
     "text": [
      "0\n",
      "1\n",
      "2\n",
      "3\n"
     ]
    }
   ],
   "source": [
    "x=np.array(42)\n",
    "print(x.ndim)\n",
    "x=np.array([1,2,4,5,10])\n",
    "print(x.ndim)\n",
    "x=np.array([[1,2,4],[5,10,7]])\n",
    "print(x.ndim)\n",
    "x=np.array([[[1,2,4],[5,10,7]],\n",
    "            [[10,20,40],[50,100,70]]\n",
    "           ])\n",
    "print(x.ndim)\n"
   ]
  },
  {
   "cell_type": "code",
   "execution_count": 14,
   "id": "72d44ec4",
   "metadata": {},
   "outputs": [
    {
     "name": "stdout",
     "output_type": "stream",
     "text": [
      "5\n",
      "[[[[[1 2 3]]]]]\n"
     ]
    }
   ],
   "source": [
    "x=np.array([1,2,3],ndmin=5)\n",
    "print(x.ndim)\n",
    "print(x)"
   ]
  },
  {
   "cell_type": "code",
   "execution_count": 29,
   "id": "c5b51ac0",
   "metadata": {},
   "outputs": [
    {
     "name": "stdout",
     "output_type": "stream",
     "text": [
      "[ 33 330]\n"
     ]
    }
   ],
   "source": [
    "x=np.array([[[1,2,4],[5,10,7]],\n",
    "            [[10,20,40],[50,100,70]]\n",
    "           ])\n",
    "x=np.array([[1,2,4],\n",
    "            [5,10,7],\n",
    "            [11,22,33],\n",
    "            [110,220,330],\n",
    "           ])\n",
    "print(x[-2:,-1])\n",
    "# x=np.array([1,2,4,5,10])\n",
    "# print(x[::-1])"
   ]
  },
  {
   "cell_type": "code",
   "execution_count": 47,
   "id": "aafd12d9",
   "metadata": {},
   "outputs": [
    {
     "name": "stdout",
     "output_type": "stream",
     "text": [
      "[18446744073709551615                    2                    3\n",
      "                    4]\n",
      "uint64\n"
     ]
    },
    {
     "data": {
      "text/plain": [
       "array([9223372036854775808,                   2,                   3,\n",
       "                         4], dtype=uint64)"
      ]
     },
     "execution_count": 47,
     "metadata": {},
     "output_type": "execute_result"
    }
   ],
   "source": [
    "arr = np.array([1, 2, 3, 4],dtype='u8')\n",
    "arr[0]=2**64-1\n",
    "print(arr)\n",
    "print(arr.dtype)\n",
    "arr[0]+=1\n",
    "arr"
   ]
  },
  {
   "cell_type": "raw",
   "id": "e38b3feb",
   "metadata": {},
   "source": []
  },
  {
   "cell_type": "code",
   "execution_count": 43,
   "id": "58dd8d76",
   "metadata": {},
   "outputs": [
    {
     "name": "stdout",
     "output_type": "stream",
     "text": [
      "9223372036854775808\n"
     ]
    }
   ],
   "source": [
    "print(2**63)"
   ]
  },
  {
   "cell_type": "code",
   "execution_count": 48,
   "id": "e3362556",
   "metadata": {},
   "outputs": [
    {
     "name": "stdout",
     "output_type": "stream",
     "text": [
      "<U6\n"
     ]
    }
   ],
   "source": [
    "arr = np.array(['apple', 'banana', 'cherry'])\n",
    "\n",
    "print(arr.dtype)"
   ]
  },
  {
   "cell_type": "code",
   "execution_count": 52,
   "id": "74958cf2",
   "metadata": {},
   "outputs": [
    {
     "name": "stdout",
     "output_type": "stream",
     "text": [
      "['1' '2' '3']\n",
      "<U1\n"
     ]
    }
   ],
   "source": [
    "arr = np.array([1, 2, 3],dtype='U')\n",
    "print(arr)\n",
    "print(arr.dtype)"
   ]
  },
  {
   "cell_type": "code",
   "execution_count": 54,
   "id": "1562f668",
   "metadata": {},
   "outputs": [
    {
     "name": "stdout",
     "output_type": "stream",
     "text": [
      "[1 2 3]\n",
      "int32\n"
     ]
    }
   ],
   "source": [
    "arr = np.array([1.1, 2.1, 3.9])\n",
    "\n",
    "newarr = arr.astype('i')\n",
    "\n",
    "print(newarr)\n",
    "print(newarr.dtype)"
   ]
  },
  {
   "cell_type": "code",
   "execution_count": 59,
   "id": "06437957",
   "metadata": {},
   "outputs": [
    {
     "name": "stdout",
     "output_type": "stream",
     "text": [
      "[ True False  True]\n",
      "bool\n"
     ]
    }
   ],
   "source": [
    "arr = np.array([1.1, 0, 2])\n",
    "\n",
    "newarr = arr.astype('bool')\n",
    "\n",
    "print(newarr)\n",
    "print(newarr.dtype)"
   ]
  },
  {
   "cell_type": "code",
   "execution_count": 63,
   "id": "a696556a",
   "metadata": {},
   "outputs": [
    {
     "name": "stdout",
     "output_type": "stream",
     "text": [
      "[42  2  3  4  5]\n",
      "[1 2 3 4 5]\n",
      "121748752 121748560\n"
     ]
    }
   ],
   "source": [
    "import numpy as np\n",
    "\n",
    "arr = np.array([1, 2, 3, 4, 5])\n",
    "x = arr.copy()\n",
    "arr[0] = 42\n",
    "\n",
    "print(arr)\n",
    "print(x)\n",
    "print(id(x),id(arr))"
   ]
  },
  {
   "cell_type": "code",
   "execution_count": 64,
   "id": "cdabf826",
   "metadata": {},
   "outputs": [
    {
     "name": "stdout",
     "output_type": "stream",
     "text": [
      "[42  2  3  4  5]\n",
      "[42  2  3  4  5]\n",
      "121748128 121748128\n"
     ]
    }
   ],
   "source": [
    "import numpy as np\n",
    "\n",
    "arr = np.array([1, 2, 3, 4, 5])\n",
    "x = arr\n",
    "arr[0] = 42\n",
    "\n",
    "print(arr)\n",
    "print(x)\n",
    "print(id(x),id(arr))"
   ]
  },
  {
   "cell_type": "code",
   "execution_count": 65,
   "id": "45649d6c",
   "metadata": {},
   "outputs": [
    {
     "name": "stdout",
     "output_type": "stream",
     "text": [
      "[42  2  3  4  5]\n",
      "[42  2  3  4  5]\n",
      "121041744 121748848\n"
     ]
    }
   ],
   "source": [
    "import numpy as np\n",
    "\n",
    "arr = np.array([1, 2, 3, 4, 5])\n",
    "x = arr.view()\n",
    "arr[0] = 42\n",
    "\n",
    "print(arr)\n",
    "print(x)\n",
    "print(id(x),id(arr))"
   ]
  },
  {
   "cell_type": "code",
   "execution_count": 70,
   "id": "91d35b25",
   "metadata": {},
   "outputs": [
    {
     "name": "stdout",
     "output_type": "stream",
     "text": [
      "None\n",
      "[1 2 3 4 5]\n",
      "None\n"
     ]
    }
   ],
   "source": [
    "import numpy as np\n",
    "\n",
    "arr = np.array([1, 2, 3, 4, 5])\n",
    "\n",
    "x = arr.copy()\n",
    "y = arr.view()\n",
    "z=arr\n",
    "\n",
    "print(x.base)\n",
    "print(y.base)\n",
    "print(z.base)\n"
   ]
  },
  {
   "cell_type": "code",
   "execution_count": 78,
   "id": "64df3ca8",
   "metadata": {},
   "outputs": [
    {
     "name": "stdout",
     "output_type": "stream",
     "text": [
      "(3, 4)\n",
      "[[[ 1  2]\n",
      "  [ 3  4]\n",
      "  [ 5  6]]\n",
      "\n",
      " [[ 7  8]\n",
      "  [50 60]\n",
      "  [70 80]]]\n"
     ]
    }
   ],
   "source": [
    "import numpy as np\n",
    "\n",
    "arr = np.array([[1, 2, 3, 4], \n",
    "                [5, 6, 7, 8],\n",
    "                [50, 60, 70, 80]])\n",
    "\n",
    "print(arr.shape)\n",
    "arr=arr.reshape(2,-1,2)\n",
    "print(arr)\n"
   ]
  },
  {
   "cell_type": "code",
   "execution_count": 79,
   "id": "5bcc1c49",
   "metadata": {},
   "outputs": [
    {
     "name": "stdout",
     "output_type": "stream",
     "text": [
      "[[[   1    2    3    4    5    6    7    8    9   10   11   12   13   14\n",
      "     15   16   17   18   19   20   21   22   23   24   25   26   27   28\n",
      "     29   30   31   32   33   34   35   36   37   38   39   40   41   42\n",
      "     43   44   45   46   47   48   49   50   51   52   53   54   55   56\n",
      "     57   58   59   60   61   62   63   64   65   66   67   68   69   70\n",
      "     71   72   73   74   75   76   77   78   79   80   81   82   83   84\n",
      "     85   86   87   88   89   90   91   92   93   94   95   96   97   98\n",
      "     99  100  101  102  103  104  105  106  107  108  109  110  111  112\n",
      "    113  114  115  116  117  118  119  120  121  122  123  124  125  126\n",
      "    127  128  129  130  131  132  133  134  135  136  137  138  139  140\n",
      "    141  142  143  144  145  146  147  148  149  150  151  152  153  154\n",
      "    155  156  157  158  159  160  161  162  163  164  165  166  167  168\n",
      "    169  170  171  172  173  174  175  176  177  178  179  180  181  182\n",
      "    183  184  185  186  187  188  189  190  191  192  193  194  195  196\n",
      "    197  198  199  200  201  202  203  204  205  206  207  208  209  210\n",
      "    211  212  213  214  215  216  217  218  219  220  221  222  223  224\n",
      "    225  226  227  228  229  230  231  232  233  234  235  236  237  238\n",
      "    239  240  241  242  243  244  245  246  247  248  249  250]\n",
      "  [ 251  252  253  254  255  256  257  258  259  260  261  262  263  264\n",
      "    265  266  267  268  269  270  271  272  273  274  275  276  277  278\n",
      "    279  280  281  282  283  284  285  286  287  288  289  290  291  292\n",
      "    293  294  295  296  297  298  299  300  301  302  303  304  305  306\n",
      "    307  308  309  310  311  312  313  314  315  316  317  318  319  320\n",
      "    321  322  323  324  325  326  327  328  329  330  331  332  333  334\n",
      "    335  336  337  338  339  340  341  342  343  344  345  346  347  348\n",
      "    349  350  351  352  353  354  355  356  357  358  359  360  361  362\n",
      "    363  364  365  366  367  368  369  370  371  372  373  374  375  376\n",
      "    377  378  379  380  381  382  383  384  385  386  387  388  389  390\n",
      "    391  392  393  394  395  396  397  398  399  400  401  402  403  404\n",
      "    405  406  407  408  409  410  411  412  413  414  415  416  417  418\n",
      "    419  420  421  422  423  424  425  426  427  428  429  430  431  432\n",
      "    433  434  435  436  437  438  439  440  441  442  443  444  445  446\n",
      "    447  448  449  450  451  452  453  454  455  456  457  458  459  460\n",
      "    461  462  463  464  465  466  467  468  469  470  471  472  473  474\n",
      "    475  476  477  478  479  480  481  482  483  484  485  486  487  488\n",
      "    489  490  491  492  493  494  495  496  497  498  499  500]]\n",
      "\n",
      " [[ 501  502  503  504  505  506  507  508  509  510  511  512  513  514\n",
      "    515  516  517  518  519  520  521  522  523  524  525  526  527  528\n",
      "    529  530  531  532  533  534  535  536  537  538  539  540  541  542\n",
      "    543  544  545  546  547  548  549  550  551  552  553  554  555  556\n",
      "    557  558  559  560  561  562  563  564  565  566  567  568  569  570\n",
      "    571  572  573  574  575  576  577  578  579  580  581  582  583  584\n",
      "    585  586  587  588  589  590  591  592  593  594  595  596  597  598\n",
      "    599  600  601  602  603  604  605  606  607  608  609  610  611  612\n",
      "    613  614  615  616  617  618  619  620  621  622  623  624  625  626\n",
      "    627  628  629  630  631  632  633  634  635  636  637  638  639  640\n",
      "    641  642  643  644  645  646  647  648  649  650  651  652  653  654\n",
      "    655  656  657  658  659  660  661  662  663  664  665  666  667  668\n",
      "    669  670  671  672  673  674  675  676  677  678  679  680  681  682\n",
      "    683  684  685  686  687  688  689  690  691  692  693  694  695  696\n",
      "    697  698  699  700  701  702  703  704  705  706  707  708  709  710\n",
      "    711  712  713  714  715  716  717  718  719  720  721  722  723  724\n",
      "    725  726  727  728  729  730  731  732  733  734  735  736  737  738\n",
      "    739  740  741  742  743  744  745  746  747  748  749  750]\n",
      "  [ 751  752  753  754  755  756  757  758  759  760  761  762  763  764\n",
      "    765  766  767  768  769  770  771  772  773  774  775  776  777  778\n",
      "    779  780  781  782  783  784  785  786  787  788  789  790  791  792\n",
      "    793  794  795  796  797  798  799  800  801  802  803  804  805  806\n",
      "    807  808  809  810  811  812  813  814  815  816  817  818  819  820\n",
      "    821  822  823  824  825  826  827  828  829  830  831  832  833  834\n",
      "    835  836  837  838  839  840  841  842  843  844  845  846  847  848\n",
      "    849  850  851  852  853  854  855  856  857  858  859  860  861  862\n",
      "    863  864  865  866  867  868  869  870  871  872  873  874  875  876\n",
      "    877  878  879  880  881  882  883  884  885  886  887  888  889  890\n",
      "    891  892  893  894  895  896  897  898  899  900  901  902  903  904\n",
      "    905  906  907  908  909  910  911  912  913  914  915  916  917  918\n",
      "    919  920  921  922  923  924  925  926  927  928  929  930  931  932\n",
      "    933  934  935  936  937  938  939  940  941  942  943  944  945  946\n",
      "    947  948  949  950  951  952  953  954  955  956  957  958  959  960\n",
      "    961  962  963  964  965  966  967  968  969  970  971  972  973  974\n",
      "    975  976  977  978  979  980  981  982  983  984  985  986  987  988\n",
      "    989  990  991  992  993  994  995  996  997  998  999 1000]]]\n"
     ]
    }
   ],
   "source": [
    "x=np.array(range(1,1001))\n",
    "x=x.reshape(2,2,-1)\n",
    "print(x)"
   ]
  },
  {
   "cell_type": "code",
   "execution_count": 83,
   "id": "1fcf8a75",
   "metadata": {},
   "outputs": [
    {
     "name": "stdout",
     "output_type": "stream",
     "text": [
      "[1 2 3 4]\n",
      "[5 6 7 8]\n",
      "[50 60 70 80]\n",
      "1\n",
      "2\n",
      "3\n",
      "4\n",
      "5\n",
      "6\n",
      "7\n",
      "8\n",
      "50\n",
      "60\n",
      "70\n",
      "80\n"
     ]
    }
   ],
   "source": [
    "import numpy as np\n",
    "\n",
    "arr = np.array([[1, 2, 3, 4], \n",
    "                [5, 6, 7, 8],\n",
    "                [50, 60, 70, 80]])\n",
    "\n",
    "for x in arr:\n",
    "    print(x)\n",
    "        \n",
    "for x in arr:\n",
    "    for y in x:\n",
    "        print(y)"
   ]
  },
  {
   "cell_type": "code",
   "execution_count": 85,
   "id": "af63b832",
   "metadata": {},
   "outputs": [
    {
     "name": "stdout",
     "output_type": "stream",
     "text": [
      "1\n",
      "2\n",
      "3\n",
      "4\n",
      "5\n",
      "6\n",
      "7\n",
      "8\n",
      "9\n",
      "10\n",
      "11\n",
      "12\n"
     ]
    }
   ],
   "source": [
    "import numpy as np\n",
    "\n",
    "arr = np.array([[[1, 2, 3], [4, 5, 6]], [[7, 8, 9], [10, 11, 12]]])\n",
    "\n",
    "for x in np.nditer(arr):\n",
    "    print(x)"
   ]
  },
  {
   "cell_type": "code",
   "execution_count": 89,
   "id": "d40147d0",
   "metadata": {},
   "outputs": [
    {
     "name": "stdout",
     "output_type": "stream",
     "text": [
      "b'1000'\n",
      "b'2'\n",
      "b'3'\n"
     ]
    }
   ],
   "source": [
    "import numpy as np\n",
    "\n",
    "arr = np.array([1000, 2, 3])\n",
    "\n",
    "for x in np.nditer(arr, flags=['buffered'], op_dtypes=['S']):\n",
    "  print(x)"
   ]
  },
  {
   "cell_type": "code",
   "execution_count": 94,
   "id": "c0f962b9",
   "metadata": {},
   "outputs": [
    {
     "name": "stdout",
     "output_type": "stream",
     "text": [
      "1\n",
      "3\n",
      "50\n",
      "70\n"
     ]
    }
   ],
   "source": [
    "import numpy as np\n",
    "\n",
    "arr = np.array([[1, 2, 3, 4], [5, 6, 7, 8], [50, 60, 70, 80]])\n",
    "\n",
    "for x in np.nditer(arr[::2, ::2]):\n",
    "  print(x)"
   ]
  },
  {
   "cell_type": "code",
   "execution_count": 96,
   "id": "3f9b3c9a",
   "metadata": {},
   "outputs": [
    {
     "name": "stdout",
     "output_type": "stream",
     "text": [
      "(0, 0) 1\n",
      "(0, 1) 2\n",
      "(0, 2) 3\n",
      "(0, 3) 4\n",
      "(1, 0) 5\n",
      "(1, 1) 6\n",
      "(1, 2) 7\n",
      "(1, 3) 8\n",
      "(2, 0) 50\n",
      "(2, 1) 60\n",
      "(2, 2) 70\n",
      "(2, 3) 80\n"
     ]
    }
   ],
   "source": [
    "import numpy as np\n",
    "\n",
    "arr = np.array([[1, 2, 3, 4], [5, 6, 7, 8], [50, 60, 70, 80]])\n",
    "\n",
    "for idx, x in np.ndenumerate(arr):\n",
    "  print(idx, x)"
   ]
  },
  {
   "cell_type": "code",
   "execution_count": 118,
   "id": "638e3602",
   "metadata": {},
   "outputs": [
    {
     "name": "stdout",
     "output_type": "stream",
     "text": [
      "[[[1 2 3]]\n",
      "\n",
      " [[4 5 6]]]\n"
     ]
    }
   ],
   "source": [
    "import numpy as np\n",
    "\n",
    "arr1 = np.array([[[1, 2, 3]]])\n",
    "\n",
    "arr2 = np.array([[[4, 5, 6]]])\n",
    "\n",
    "arr = np.concatenate((arr1, arr2), axis=0)\n",
    "\n",
    "print(arr)"
   ]
  },
  {
   "cell_type": "code",
   "execution_count": 113,
   "id": "8f8828ef",
   "metadata": {},
   "outputs": [
    {
     "data": {
      "text/plain": [
       "4"
      ]
     },
     "execution_count": 113,
     "metadata": {},
     "output_type": "execute_result"
    }
   ],
   "source": [
    "arr[1,0]"
   ]
  },
  {
   "cell_type": "code",
   "execution_count": 124,
   "id": "df88e9c9",
   "metadata": {},
   "outputs": [
    {
     "name": "stdout",
     "output_type": "stream",
     "text": [
      "[1 2 3 4 5 6]\n"
     ]
    }
   ],
   "source": [
    "import numpy as np\n",
    "\n",
    "arr1 = np.array([1, 2, 3])\n",
    "\n",
    "arr2 = np.array([4, 5, 6])\n",
    "\n",
    "arr = np.hstack((arr1, arr2))\n",
    "\n",
    "print(arr)\n"
   ]
  },
  {
   "cell_type": "code",
   "execution_count": 123,
   "id": "4035938c",
   "metadata": {},
   "outputs": [
    {
     "name": "stdout",
     "output_type": "stream",
     "text": [
      "[1 2 3]\n",
      "sssssss\n",
      "[4 5 6]\n",
      "sssssss\n",
      "[7 8 9]\n",
      "sssssss\n",
      "[10 11 12]\n",
      "sssssss\n"
     ]
    }
   ],
   "source": [
    "arr = np.array([[[1, 2, 3], [4, 5, 6]], [[7, 8, 9], [10, 11, 12]]])\n",
    "\n",
    "# for x in arr:\n",
    "#     print(x)\n",
    "#     print(\"sssssssssss\")\n",
    "\n",
    "for x in arr:    \n",
    "    for y in x:\n",
    "        print(y)\n",
    "        print(\"sssssss\")\n",
    "#         for z in y:\n",
    "#             print(z)"
   ]
  },
  {
   "cell_type": "code",
   "execution_count": 126,
   "id": "41839e03",
   "metadata": {},
   "outputs": [
    {
     "name": "stdout",
     "output_type": "stream",
     "text": [
      "[[1 2 3]\n",
      " [4 5 6]]\n"
     ]
    }
   ],
   "source": [
    "import numpy as np\n",
    "\n",
    "arr1 = np.array([1, 2, 3])\n",
    "\n",
    "arr2 = np.array([4, 5, 6])\n",
    "\n",
    "arr = np.vstack((arr1, arr2))\n",
    "\n",
    "print(arr)"
   ]
  },
  {
   "cell_type": "code",
   "execution_count": 127,
   "id": "666a4143",
   "metadata": {},
   "outputs": [
    {
     "name": "stdout",
     "output_type": "stream",
     "text": [
      "[[[1 4]\n",
      "  [2 5]\n",
      "  [3 6]]]\n"
     ]
    }
   ],
   "source": [
    "import numpy as np\n",
    "\n",
    "arr1 = np.array([1, 2, 3])\n",
    "\n",
    "arr2 = np.array([4, 5, 6])\n",
    "\n",
    "arr = np.dstack((arr1, arr2))\n",
    "\n",
    "print(arr)"
   ]
  },
  {
   "cell_type": "code",
   "execution_count": 135,
   "id": "70ffd394",
   "metadata": {},
   "outputs": [
    {
     "name": "stdout",
     "output_type": "stream",
     "text": [
      "<class 'numpy.ndarray'>\n"
     ]
    }
   ],
   "source": [
    "import numpy as np\n",
    "\n",
    "arr = np.array([1, 2, 3, 4, 5, 6,7,8,9,10])\n",
    "\n",
    "newarr = np.array_split(arr, 2)\n",
    "\n",
    "print(type(newarr[1]))"
   ]
  },
  {
   "cell_type": "code",
   "execution_count": 139,
   "id": "245375fb",
   "metadata": {},
   "outputs": [
    {
     "name": "stdout",
     "output_type": "stream",
     "text": [
      "[array([[ 1],\n",
      "       [ 4],\n",
      "       [ 7],\n",
      "       [10],\n",
      "       [13],\n",
      "       [16]]), array([[ 2],\n",
      "       [ 5],\n",
      "       [ 8],\n",
      "       [11],\n",
      "       [14],\n",
      "       [17]]), array([[ 3],\n",
      "       [ 6],\n",
      "       [ 9],\n",
      "       [12],\n",
      "       [15],\n",
      "       [18]])]\n"
     ]
    }
   ],
   "source": [
    "import numpy as np\n",
    "\n",
    "arr = np.array([[1, 2, 3], [4, 5, 6], [7, 8, 9], [10, 11, 12], [13, 14, 15], [16, 17, 18]])\n",
    "\n",
    "newarr = np.array_split(arr, 3, axis=1)\n",
    "\n",
    "print(newarr)"
   ]
  },
  {
   "cell_type": "code",
   "execution_count": 144,
   "id": "d6db6dbb",
   "metadata": {},
   "outputs": [
    {
     "name": "stdout",
     "output_type": "stream",
     "text": [
      "[array([[ 1],\n",
      "       [ 4],\n",
      "       [ 7],\n",
      "       [10],\n",
      "       [13],\n",
      "       [16]]), array([[ 2],\n",
      "       [ 5],\n",
      "       [ 8],\n",
      "       [11],\n",
      "       [14],\n",
      "       [17]]), array([[ 3],\n",
      "       [ 6],\n",
      "       [ 9],\n",
      "       [12],\n",
      "       [15],\n",
      "       [18]])]\n"
     ]
    }
   ],
   "source": [
    "import numpy as np\n",
    "\n",
    "arr = np.array([[1, 2, 3], [4, 5, 6], [7, 8, 9], [10, 11, 12], [13, 14, 15], [16, 17, 18]])\n",
    "\n",
    "newarr = np.hsplit(arr, 3)\n",
    "\n",
    "print(newarr)"
   ]
  },
  {
   "cell_type": "code",
   "execution_count": 149,
   "id": "40d7c845",
   "metadata": {},
   "outputs": [
    {
     "name": "stdout",
     "output_type": "stream",
     "text": [
      "(array([0, 0, 0, 1, 1], dtype=int32), array([3, 5, 6, 3, 5], dtype=int32))\n"
     ]
    }
   ],
   "source": [
    "import numpy as np\n",
    "\n",
    "arr = np.array([\n",
    "                [1, 2, 3, 4, 5, 4, 4],\n",
    "                [1, 2, 3, 4, 50, 4, 40]\n",
    "               ])\n",
    "\n",
    "x = np.where(arr == 4)\n",
    "\n",
    "print(x)"
   ]
  },
  {
   "cell_type": "code",
   "execution_count": 150,
   "id": "13737924",
   "metadata": {},
   "outputs": [
    {
     "name": "stdout",
     "output_type": "stream",
     "text": [
      "(array([1, 3, 5, 7], dtype=int32),)\n"
     ]
    }
   ],
   "source": [
    "import numpy as np\n",
    "\n",
    "arr = np.array([1, 2, 3, 4, 5, 6, 7, 8])\n",
    "\n",
    "x = np.where(arr%2 == 0)\n",
    "\n",
    "print(x)"
   ]
  },
  {
   "cell_type": "code",
   "execution_count": 154,
   "id": "ba71cf67",
   "metadata": {},
   "outputs": [
    {
     "name": "stdout",
     "output_type": "stream",
     "text": [
      "(array([3, 4, 5, 6, 7], dtype=int32),)\n"
     ]
    }
   ],
   "source": [
    "import numpy as np\n",
    "\n",
    "arr = np.array([1, 2, 3, 4, 5, 6, 7, 8])\n",
    "\n",
    "x = np.where(3<arr)\n",
    "\n",
    "print(x)"
   ]
  },
  {
   "cell_type": "code",
   "execution_count": 165,
   "id": "4eb0051a",
   "metadata": {},
   "outputs": [
    {
     "name": "stdout",
     "output_type": "stream",
     "text": [
      "1\n"
     ]
    }
   ],
   "source": [
    "import numpy as np\n",
    "\n",
    "arr = np.array([6, 7, 8, 90])\n",
    "\n",
    "x = np.searchsorted(arr, 6.5, side='left')\n",
    "\n",
    "print(x)"
   ]
  },
  {
   "cell_type": "code",
   "execution_count": 166,
   "id": "40d90b27",
   "metadata": {},
   "outputs": [
    {
     "name": "stdout",
     "output_type": "stream",
     "text": [
      "[1 2 3]\n"
     ]
    }
   ],
   "source": [
    "import numpy as np\n",
    "\n",
    "arr = np.array([1, 3, 5, 7])\n",
    "\n",
    "x = np.searchsorted(arr, [2, 4, 6])\n",
    "\n",
    "print(x)"
   ]
  },
  {
   "cell_type": "code",
   "execution_count": 167,
   "id": "04f3e112",
   "metadata": {},
   "outputs": [
    {
     "name": "stdout",
     "output_type": "stream",
     "text": [
      "[[2 3 4]\n",
      " [0 1 5]]\n"
     ]
    }
   ],
   "source": [
    "import numpy as np\n",
    "\n",
    "arr = np.array([[3, 2, 4], [5, 0, 1]])\n",
    "\n",
    "print(np.sort(arr))"
   ]
  },
  {
   "cell_type": "code",
   "execution_count": 168,
   "id": "4c89c521",
   "metadata": {},
   "outputs": [
    {
     "name": "stdout",
     "output_type": "stream",
     "text": [
      "[41 43]\n"
     ]
    }
   ],
   "source": [
    "import numpy as np\n",
    "\n",
    "arr = np.array([41, 42, 43, 44])\n",
    "\n",
    "x = [True, False, True, False]\n",
    "\n",
    "newarr = arr[x]\n",
    "\n",
    "print(newarr)"
   ]
  },
  {
   "cell_type": "code",
   "execution_count": 170,
   "id": "0846aa90",
   "metadata": {},
   "outputs": [
    {
     "name": "stdout",
     "output_type": "stream",
     "text": [
      "[False, False, True, True]\n",
      "[43 44]\n",
      "The history saving thread hit an unexpected error (OperationalError('database or disk is full')).History will not be written to the database.\n"
     ]
    }
   ],
   "source": [
    "import numpy as np\n",
    "\n",
    "arr = np.array([41, 42, 43, 44])\n",
    "\n",
    "# Create an empty list\n",
    "filter_arr = []\n",
    "\n",
    "# go through each element in arr\n",
    "for element in arr:\n",
    "  # if the element is higher than 42, set the value to True, otherwise False:\n",
    "  if element > 42:\n",
    "    filter_arr.append(True)\n",
    "  else:\n",
    "    filter_arr.append(False)\n",
    "\n",
    "newarr = arr[filter_arr]\n",
    "\n",
    "print(filter_arr)\n",
    "print(newarr)"
   ]
  },
  {
   "cell_type": "code",
   "execution_count": null,
   "id": "098dd96f",
   "metadata": {},
   "outputs": [],
   "source": []
  }
 ],
 "metadata": {
  "kernelspec": {
   "display_name": "Python 3 (ipykernel)",
   "language": "python",
   "name": "python3"
  },
  "language_info": {
   "codemirror_mode": {
    "name": "ipython",
    "version": 3
   },
   "file_extension": ".py",
   "mimetype": "text/x-python",
   "name": "python",
   "nbconvert_exporter": "python",
   "pygments_lexer": "ipython3",
   "version": "3.9.6"
  }
 },
 "nbformat": 4,
 "nbformat_minor": 5
}
