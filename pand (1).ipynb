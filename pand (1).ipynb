{
 "cells": [
  {
   "cell_type": "markdown",
   "id": "d60ef8e5",
   "metadata": {},
   "source": [
    "# pandas module"
   ]
  },
  {
   "cell_type": "code",
   "execution_count": 3,
   "id": "da06a9aa",
   "metadata": {},
   "outputs": [
    {
     "name": "stdout",
     "output_type": "stream",
     "text": [
      "1\n",
      "7\n",
      "2\n"
     ]
    }
   ],
   "source": [
    "import pandas as pd\n",
    "\n",
    "a = [1, 7, 2]\n",
    "\n",
    "myvar = pd.Series(a)\n",
    "\n",
    "for i in myvar:\n",
    "    print(i)\n"
   ]
  },
  {
   "cell_type": "code",
   "execution_count": 10,
   "id": "54aa5dd3",
   "metadata": {},
   "outputs": [
    {
     "name": "stdout",
     "output_type": "stream",
     "text": [
      "1.1\n",
      "item1    1.1\n",
      "item2    7.0\n",
      "item3    2.0\n",
      "dtype: float64\n"
     ]
    }
   ],
   "source": [
    "import pandas as pd\n",
    "\n",
    "a = [1, 7, 2]\n",
    "\n",
    "myvar = pd.Series(a,index=['item1','item2','item3'])\n",
    "print(myvar['item1'])\n",
    "print(myvar)"
   ]
  },
  {
   "cell_type": "code",
   "execution_count": 12,
   "id": "b8031eb5",
   "metadata": {},
   "outputs": [
    {
     "name": "stdout",
     "output_type": "stream",
     "text": [
      "300.1\n",
      "day1    300.1\n",
      "day2    450.0\n",
      "day3    500.0\n",
      "dtype: float64\n"
     ]
    }
   ],
   "source": [
    "import pandas as pd\n",
    "a = {\"day1\":300.1,\"day2\":450,\"day3\":500}\n",
    "myvar = pd.Series(a)\n",
    "print(myvar['day1'])\n",
    "print(myvar)"
   ]
  },
  {
   "cell_type": "code",
   "execution_count": 17,
   "id": "ffbf8796",
   "metadata": {},
   "outputs": [
    {
     "name": "stdout",
     "output_type": "stream",
     "text": [
      "300.1\n",
      "day1    300.1\n",
      "day4    360.0\n",
      "dtype: float64\n"
     ]
    }
   ],
   "source": [
    "import pandas as pd\n",
    "a = {\"day1\":300.1,\"day2\":450,\"day3\":500, \"day4\":360}\n",
    "myvar = pd.Series(a, index=[\"day1\",\"day4\"])\n",
    "print(myvar['day1'])\n",
    "print(myvar)"
   ]
  },
  {
   "cell_type": "markdown",
   "id": "5ddc1dac",
   "metadata": {},
   "source": [
    "# DataFrame"
   ]
  },
  {
   "cell_type": "code",
   "execution_count": 34,
   "id": "0356955f",
   "metadata": {},
   "outputs": [
    {
     "name": "stdout",
     "output_type": "stream",
     "text": [
      "   calories  duration\n",
      "0       420        50\n",
      "2       390        45\n",
      "   calories  duration\n",
      "0       420        50\n",
      "1       380        40\n",
      "2       390        45\n"
     ]
    }
   ],
   "source": [
    "import pandas as pd\n",
    "data = {\n",
    "  \"calories\": [420, 380, 390],\n",
    "  \"duration\": [50, 40, 45]\n",
    "}\n",
    "myvar = pd.DataFrame(data)\n",
    "#print(myvar[\"calories\"][0:2])\n",
    "index=[0,2]\n",
    "print(myvar.loc[index])\n",
    "print(myvar)"
   ]
  },
  {
   "cell_type": "code",
   "execution_count": 37,
   "id": "01e048ab",
   "metadata": {},
   "outputs": [
    {
     "name": "stdout",
     "output_type": "stream",
     "text": [
      "420\n",
      "      calories  duration\n",
      "day1       420        50\n",
      "day3       390        45\n",
      "      calories  duration\n",
      "day1       420        50\n",
      "day2       380        40\n",
      "day3       390        45\n"
     ]
    }
   ],
   "source": [
    "import pandas as pd\n",
    "data = {\n",
    "  \"calories\": [420, 380, 390],\n",
    "  \"duration\": [50, 40, 45]\n",
    "}\n",
    "myvar = pd.DataFrame(data, index=[\"day1\",\"day2\",\"day3\"])\n",
    "print(myvar[\"calories\"][\"day1\"])\n",
    "index=[\"day1\",\"day3\"]\n",
    "print(myvar.loc[index])\n",
    "print(myvar)"
   ]
  },
  {
   "cell_type": "markdown",
   "id": "73a46e1e",
   "metadata": {},
   "source": [
    "# read_csv"
   ]
  },
  {
   "cell_type": "code",
   "execution_count": 62,
   "id": "733b28b5",
   "metadata": {},
   "outputs": [
    {
     "name": "stdout",
     "output_type": "stream",
     "text": [
      "         date     value\n",
      "0  1991-07-01  3.526591\n",
      "1  1991-08-01  3.180891\n",
      "2  1991-09-01  3.252221\n",
      "3  1991-10-01  3.611003\n",
      "4  1991-11-01  3.565869\n",
      "           date      value\n",
      "199  2008-02-01  21.654285\n",
      "200  2008-03-01  18.264945\n",
      "201  2008-04-01  23.107677\n",
      "202  2008-05-01  22.912510\n",
      "203  2008-06-01  19.431740\n",
      "<class 'pandas.core.frame.DataFrame'>\n",
      "RangeIndex: 204 entries, 0 to 203\n",
      "Data columns (total 2 columns):\n",
      " #   Column  Non-Null Count  Dtype  \n",
      "---  ------  --------------  -----  \n",
      " 0   date    204 non-null    object \n",
      " 1   value   204 non-null    float64\n",
      "dtypes: float64(1), object(1)\n",
      "memory usage: 2.5+ KB\n",
      "None\n"
     ]
    }
   ],
   "source": [
    "import pandas as pd\n",
    "df = pd.read_csv('https://raw.githubusercontent.com/selva86/datasets/master/a10.csv')\n",
    "#print(df.to_string()) \n",
    "#print(df.loc[0:3])\n",
    "#print(df[\"date\"][0:10])\n",
    "print(df.head())\n",
    "print(df.tail())\n",
    "print(df.info())\n"
   ]
  },
  {
   "cell_type": "code",
   "execution_count": 61,
   "id": "4c8b5ff7",
   "metadata": {},
   "outputs": [
    {
     "name": "stdout",
     "output_type": "stream",
     "text": [
      "        market     month  year  quantity  priceMin  priceMax  priceMod state  \\\n",
      "2   ABOHAR(PB)   January  2010       790      1283      1592      1460    PB   \n",
      "3   ABOHAR(PB)   January  2011       245      3067      3750      3433    PB   \n",
      "4   ABOHAR(PB)   January  2012      1035       523       686       605    PB   \n",
      "5   ABOHAR(PB)   January  2013       675      1327      1900      1605    PB   \n",
      "6   ABOHAR(PB)   January  2014       440      1025      1481      1256    PB   \n",
      "..         ...       ...   ...       ...       ...       ...       ...   ...   \n",
      "85  ABOHAR(PB)  December  2010       350      2522      3344      3028    PB   \n",
      "86  ABOHAR(PB)  December  2011        50       500       800       600    PB   \n",
      "87  ABOHAR(PB)  December  2012       310       880      1565      1270    PB   \n",
      "88  ABOHAR(PB)  December  2013       470      1675      2356      1938    PB   \n",
      "89  ABOHAR(PB)  December  2014      1155      1294      1903      1659    PB   \n",
      "\n",
      "      city           date  \n",
      "2   ABOHAR   January-2010  \n",
      "3   ABOHAR   January-2011  \n",
      "4   ABOHAR   January-2012  \n",
      "5   ABOHAR   January-2013  \n",
      "6   ABOHAR   January-2014  \n",
      "..     ...            ...  \n",
      "85  ABOHAR  December-2010  \n",
      "86  ABOHAR  December-2011  \n",
      "87  ABOHAR  December-2012  \n",
      "88  ABOHAR  December-2013  \n",
      "89  ABOHAR  December-2014  \n",
      "\n",
      "[72 rows x 10 columns]\n"
     ]
    }
   ],
   "source": [
    "import pandas as pd\n",
    "df = pd.read_csv('https://raw.githubusercontent.com/selva86/datasets/master/MarketArrivals.csv')\n",
    "#print(df.head())\n",
    "df=df.loc[df.year>2006,:]\n",
    "df=df.loc[df.city=='ABOHAR',:]\n",
    "print(df)\n"
   ]
  },
  {
   "cell_type": "code",
   "execution_count": 64,
   "id": "27161559",
   "metadata": {},
   "outputs": [
    {
     "name": "stdout",
     "output_type": "stream",
     "text": [
      "                value\n",
      "date                 \n",
      "1991-07-01   3.526591\n",
      "1991-08-01   3.180891\n",
      "1991-09-01   3.252221\n",
      "1991-10-01   3.611003\n",
      "1991-11-01   3.565869\n",
      "...               ...\n",
      "2008-02-01  21.654285\n",
      "2008-03-01  18.264945\n",
      "2008-04-01  23.107677\n",
      "2008-05-01  22.912510\n",
      "2008-06-01  19.431740\n",
      "\n",
      "[204 rows x 1 columns]\n"
     ]
    },
    {
     "data": {
      "image/png": "[encoded data removed]",
      "text/plain": [
       "<Figure size 1600x500 with 1 Axes>"
      ]
     },
     "metadata": {
      "needs_background": "light"
     },
     "output_type": "display_data"
    }
   ],
   "source": [
    "# Time series data source: fpp pacakge in R.\n",
    "import matplotlib.pyplot as plt\n",
    "df = pd.read_csv('https://raw.githubusercontent.com/selva86/datasets/master/a10.csv', parse_dates=['date'], index_col='date')\n",
    "\n",
    "# Draw Plot\n",
    "def plot_df(df, x, y, title=\"\", xlabel='Date', ylabel='Value', dpi=100):\n",
    "    plt.figure(figsize=(16,5), dpi=dpi)\n",
    "    plt.plot(x, y, color='tab:red')\n",
    "    plt.gca().set(title=title, xlabel=xlabel, ylabel=ylabel)\n",
    "    plt.show()\n",
    "\n",
    "print(df)\n",
    "plot_df(df, x=df.index, y=df.value, title='Monthly anti-diabetic drug sales in Australia from 1992 to 2008.')"
   ]
  },
  {
   "cell_type": "code",
   "execution_count": 73,
   "id": "de2e314a",
   "metadata": {},
   "outputs": [
    {
     "name": "stdout",
     "output_type": "stream",
     "text": [
      "[99, 86, 87, 88, 111, 86, 103, 87, 94, 78, 77, 85, 86]\n",
      "[94.3495217071376, 90.84694628403237, 89.09565857247976, 90.84694628403237, 99.60338484179543, 73.33406916850626, 99.60338484179543, 87.34437086092716, 96.1008094186902, 83.84179543782193, 82.09050772626932, 87.34437086092716, 92.59823399558499]\n"
     ]
    },
    {
     "data": {
      "image/png": "[encoded data removed]",
      "text/plain": [
       "<Figure size 432x288 with 1 Axes>"
      ]
     },
     "metadata": {
      "needs_background": "light"
     },
     "output_type": "display_data"
    },
    {
     "name": "stdout",
     "output_type": "stream",
     "text": [
      "85.59308314937454\n"
     ]
    }
   ],
   "source": [
    "import matplotlib.pyplot as plt\n",
    "from scipy import stats\n",
    "\n",
    "x = [5,7,8,7,2,17,2,9,4,11,12,9,6]\n",
    "y = [99,86,87,88,111,86,103,87,94,78,77,85,86]\n",
    "\n",
    "slope, intercept, r, p, std_err = stats.linregress(x, y)\n",
    "\n",
    "def myfunc(x):\n",
    "  return slope * x + intercept\n",
    "\n",
    "mymodel = list(map(myfunc, x))\n",
    "print(y)\n",
    "print(mymodel)\n",
    "plt.scatter(x, y)\n",
    "plt.plot(x, mymodel,'r')\n",
    "plt.show()\n",
    "print(myfunc(10))"
   ]
  },
  {
   "cell_type": "code",
   "execution_count": 71,
   "id": "8b66076b",
   "metadata": {},
   "outputs": [
    {
     "name": "stdout",
     "output_type": "stream",
     "text": [
      "0.002646873922456101 -0.7585915243761551 0.45353615760774196\n"
     ]
    }
   ],
   "source": [
    "print(p,r,std_err)\n"
   ]
  },
  {
   "cell_type": "code",
   "execution_count": 75,
   "id": "bced8bcd",
   "metadata": {},
   "outputs": [
    {
     "data": {
      "image/png": "[encoded data removed]",
      "text/plain": [
       "<Figure size 432x288 with 1 Axes>"
      ]
     },
     "metadata": {
      "needs_background": "light"
     },
     "output_type": "display_data"
    }
   ],
   "source": [
    "import matplotlib.pyplot as plt\n",
    "from scipy import stats\n",
    "\n",
    "x = [89,43,36,36,95,10,66,34,38,20,26,29,48,64,6,5,36,66,72,40]\n",
    "y = [21,46,3,35,67,95,53,72,58,10,26,34,90,33,38,20,56,2,47,15]\n",
    "\n",
    "slope, intercept, r, p, std_err = stats.linregress(x, y)\n",
    "\n",
    "def myfunc(x):\n",
    "  return slope * x + intercept\n",
    "\n",
    "mymodel = list(map(myfunc, x))\n",
    "\n",
    "plt.scatter(x, y)\n",
    "plt.plot(x, mymodel)\n",
    "plt.show()"
   ]
  },
  {
   "cell_type": "code",
   "execution_count": 76,
   "id": "cfe4500a",
   "metadata": {},
   "outputs": [
    {
     "name": "stdout",
     "output_type": "stream",
     "text": [
      "0.9555588004401059 0.013318141542974947 0.24627150586388077\n"
     ]
    }
   ],
   "source": [
    "print(p,r,std_err)\n"
   ]
  },
  {
   "cell_type": "code",
   "execution_count": 87,
   "id": "4f5b7357",
   "metadata": {},
   "outputs": [
    {
     "name": "stdout",
     "output_type": "stream",
     "text": [
      "Collecting sklearn\n",
      "  Downloading sklearn-0.0.tar.gz (1.1 kB)\n",
      "Collecting scikit-learn\n",
      "  Downloading scikit_learn-0.24.2-cp39-cp39-win32.whl (6.1 MB)\n",
      "Collecting joblib>=0.11\n",
      "  Downloading joblib-1.0.1-py3-none-any.whl (303 kB)\n",
      "Requirement already satisfied: scipy>=0.19.1 in c:\\prg\\deep\\timeseries\\ts\\lib\\site-packages (from scikit-learn->sklearn) (1.7.0)\n",
      "Requirement already satisfied: numpy>=1.13.3 in c:\\prg\\deep\\timeseries\\ts\\lib\\site-packages (from scikit-learn->sklearn) (1.21.0)\n",
      "Collecting threadpoolctl>=2.0.0\n",
      "  Downloading threadpoolctl-2.1.0-py3-none-any.whl (12 kB)\n",
      "Using legacy 'setup.py install' for sklearn, since package 'wheel' is not installed.\n",
      "Installing collected packages: threadpoolctl, joblib, scikit-learn, sklearn\n",
      "    Running setup.py install for sklearn: started\n",
      "    Running setup.py install for sklearn: finished with status 'done'\n",
      "Successfully installed joblib-1.0.1 scikit-learn-0.24.2 sklearn-0.0 threadpoolctl-2.1.0\n"
     ]
    }
   ],
   "source": [
    "!pip install sklearn"
   ]
  },
  {
   "cell_type": "code",
   "execution_count": 90,
   "id": "f78aee81",
   "metadata": {},
   "outputs": [
    {
     "name": "stdout",
     "output_type": "stream",
     "text": [
      "3 0.9432150416451026\n",
      "4 0.9542030834699505\n",
      "5 0.9568460139893514\n",
      "6 0.9798903277503688\n",
      "7 0.9867719402425458\n",
      "8 0.9898231215060764\n",
      "9 0.9898583099760433\n",
      "10 0.9919903190585483\n",
      "11 0.9936285846805349\n",
      "12 0.9936493175381375\n",
      "13 0.9963788095662549\n",
      "14 0.9985055844059898\n",
      "15 0.9987328508849533\n",
      "16 0.9987339457227803\n",
      "17 0.998729896456336\n",
      "18 0.9999998571982446\n"
     ]
    },
    {
     "name": "stderr",
     "output_type": "stream",
     "text": [
      "c:\\prg\\deep\\timeseries\\ts\\lib\\site-packages\\IPython\\core\\interactiveshell.py:3441: RankWarning: Polyfit may be poorly conditioned\n",
      "  exec(code_obj, self.user_global_ns, self.user_ns)\n",
      "c:\\prg\\deep\\timeseries\\ts\\lib\\site-packages\\IPython\\core\\interactiveshell.py:3441: RankWarning: Polyfit may be poorly conditioned\n",
      "  exec(code_obj, self.user_global_ns, self.user_ns)\n"
     ]
    }
   ],
   "source": [
    "import numpy\n",
    "import matplotlib.pyplot as plt\n",
    "from sklearn.metrics import r2_score\n",
    "\n",
    "x = [1,2,3,5,6,7,8,9,10,12,13,14,15,16,18,19,21,22]\n",
    "y = [100,90,80,60,60,55,60,65,70,70,75,76,78,79,90,99,99,100]\n",
    "for i in range(3,len(x)+1):\n",
    "    mymodel = numpy.poly1d(numpy.polyfit(x, y, i))\n",
    "\n",
    "    myline = numpy.linspace(1, 22, 100)\n",
    "\n",
    "    #plt.scatter(x, y)\n",
    "    #plt.plot(myline, mymodel(myline))\n",
    "    #plt.show()\n",
    "    print(i,r2_score(y,mymodel(x)))"
   ]
  },
  {
   "cell_type": "code",
   "execution_count": 79,
   "id": "c09e6b65",
   "metadata": {},
   "outputs": [
    {
     "data": {
      "text/plain": [
       "18"
      ]
     },
     "execution_count": 79,
     "metadata": {},
     "output_type": "execute_result"
    }
   ],
   "source": [
    "len(x)"
   ]
  },
  {
   "cell_type": "code",
   "execution_count": 98,
   "id": "f0f462e7",
   "metadata": {},
   "outputs": [
    {
     "name": "stdout",
     "output_type": "stream",
     "text": [
      "[459.02633005]\n",
      "[0.39590652 0.59613527]\n",
      "           market     month  year  quantity  priceMin  priceMax  priceMod  \\\n",
      "0      ABOHAR(PB)   January  2005      2350       404       493       446   \n",
      "1      ABOHAR(PB)   January  2006       900       487       638       563   \n",
      "2      ABOHAR(PB)   January  2010       790      1283      1592      1460   \n",
      "3      ABOHAR(PB)   January  2011       245      3067      3750      3433   \n",
      "4      ABOHAR(PB)   January  2012      1035       523       686       605   \n",
      "...           ...       ...   ...       ...       ...       ...       ...   \n",
      "10222   YEOLA(MS)  December  2011    131326       282       612       526   \n",
      "10223   YEOLA(MS)  December  2012    207066       485      1327      1136   \n",
      "10224   YEOLA(MS)  December  2013    215883       472      1427      1177   \n",
      "10225   YEOLA(MS)  December  2014    201077       446      1654      1456   \n",
      "10226   YEOLA(MS)  December  2015    223315       609      1446      1126   \n",
      "\n",
      "      state    city           date  \n",
      "0        PB  ABOHAR   January-2005  \n",
      "1        PB  ABOHAR   January-2006  \n",
      "2        PB  ABOHAR   January-2010  \n",
      "3        PB  ABOHAR   January-2011  \n",
      "4        PB  ABOHAR   January-2012  \n",
      "...     ...     ...            ...  \n",
      "10222    MS   YEOLA  December-2011  \n",
      "10223    MS   YEOLA  December-2012  \n",
      "10224    MS   YEOLA  December-2013  \n",
      "10225    MS   YEOLA  December-2014  \n",
      "10226    MS   YEOLA  December-2015  \n",
      "\n",
      "[10227 rows x 10 columns]\n"
     ]
    }
   ],
   "source": [
    "import pandas as pd\n",
    "from sklearn import linear_model\n",
    "df = pd.read_csv('https://raw.githubusercontent.com/selva86/datasets/master/MarketArrivals.csv')\n",
    "\n",
    "#print(df.head())\n",
    "#print(df)\n",
    "\n",
    "X = df[['priceMin', 'priceMax']]\n",
    "y = df['priceMod']\n",
    "\n",
    "regr = linear_model.LinearRegression()\n",
    "regr.fit(X, y)\n",
    "\n",
    "\n",
    "quantity   = regr.predict([[404, 493]])\n",
    "\n",
    "print(quantity)\n",
    "print(regr.coef_)\n",
    "print(df)"
   ]
  },
  {
   "cell_type": "code",
   "execution_count": 104,
   "id": "5f90bf6f",
   "metadata": {},
   "outputs": [
    {
     "data": {
      "image/png": "[encoded data removed]",
      "text/plain": [
       "<Figure size 432x288 with 1 Axes>"
      ]
     },
     "metadata": {
      "needs_background": "light"
     },
     "output_type": "display_data"
    }
   ],
   "source": [
    "import numpy\n",
    "import matplotlib.pyplot as plt\n",
    "from sklearn.metrics import r2_score\n",
    "\n",
    "numpy.random.seed(2)\n",
    "\n",
    "x = numpy.random.normal(3, 1, 100)\n",
    "y = numpy.random.normal(150, 40, 100) /x\n",
    "\n",
    "r2_train = r2_score(train_y, mymodel(train_x))\n",
    "r2_test = r2_score(test_y, mymodel(train_x))\n",
    "\n",
    "print(r2)\n",
    "\n",
    "#plt.scatter(x, y)\n",
    "#plt.show()"
   ]
  },
  {
   "cell_type": "code",
   "execution_count": 114,
   "id": "758ca5b6",
   "metadata": {},
   "outputs": [
    {
     "name": "stdout",
     "output_type": "stream",
     "text": [
      "degree = 2, r2_train = 0.7079710342050625, r2_test = 0.505361978465552\n",
      "degree = 3, r2_train = 0.7099067359995517, r2_test = 0.5358828143004503\n",
      "degree = 4, r2_train = 0.7201347148751489, r2_test = 0.47886602657535016\n",
      "degree = 5, r2_train = 0.7363355245205643, r2_test = 0.3812168612355922\n",
      "degree = 6, r2_train = 0.7609104526504958, r2_test = 0.18208936461594472\n",
      "degree = 7, r2_train = 0.7726954397374183, r2_test = -0.03844718778831635\n",
      "degree = 8, r2_train = 0.7727744730133396, r2_test = -0.06313089297463259\n",
      "degree = 9, r2_train = 0.773394712833729, r2_test = 0.020388291000254077\n",
      "degree = 10, r2_train = 0.773628216776004, r2_test = 0.104246481172097\n",
      "degree = 11, r2_train = 0.774904038351174, r2_test = 0.3872225449301143\n",
      "degree = 12, r2_train = 0.7752622944926839, r2_test = 0.5222694896037852\n",
      "degree = 13, r2_train = 0.7752654180890697, r2_test = 0.5338867121805415\n",
      "degree = 14, r2_train = 0.7757225424062967, r2_test = -0.1672742029289871\n",
      "degree = 15, r2_train = 0.7802652412147997, r2_test = -13.797859266860044\n",
      "degree = 16, r2_train = 0.7801595854958552, r2_test = -7.959853494536144\n",
      "degree = 17, r2_train = 0.7804131399103913, r2_test = -22.246325121477554\n",
      "degree = 18, r2_train = 0.7806554366167759, r2_test = -23.60812999893286\n",
      "degree = 19, r2_train = 0.781046136063382, r2_test = -24.09108205241814\n",
      "degree = 20, r2_train = 0.7815947830966887, r2_test = -23.851678556604316\n",
      "degree = 21, r2_train = 0.7882274442221897, r2_test = -43.879977315651196\n",
      "degree = 22, r2_train = 0.7893665413434698, r2_test = -33.18387230846227\n",
      "degree = 23, r2_train = 0.7903702635339461, r2_test = -24.62229639122385\n",
      "degree = 24, r2_train = 0.7912302940821518, r2_test = -17.73264627535473\n",
      "degree = 25, r2_train = 0.7919471230995789, r2_test = -12.429845859791955\n",
      "degree = 26, r2_train = 0.7955488818334553, r2_test = -59.160755357237754\n",
      "degree = 27, r2_train = 0.7951217376033537, r2_test = -31.813348254037415\n",
      "degree = 28, r2_train = 0.7947523844391586, r2_test = -15.782658913230204\n",
      "degree = 29, r2_train = 0.7944442521332721, r2_test = -7.043516301547971\n",
      "degree = 30, r2_train = 0.7941981927448731, r2_test = -2.4392184529478453\n",
      "degree = 31, r2_train = 0.7940134054819581, r2_test = -0.31794472885580594\n",
      "degree = 32, r2_train = 0.7938876504493254, r2_test = 0.4418024796945047\n",
      "degree = 33, r2_train = 0.7984497638506947, r2_test = -225.2753079796886\n",
      "degree = 34, r2_train = 0.7984695019989421, r2_test = -181.5251325149077\n",
      "degree = 35, r2_train = 0.7984872496074152, r2_test = -145.86425322943634\n",
      "degree = 36, r2_train = 0.79850077794609, r2_test = -117.6758151212289\n",
      "degree = 37, r2_train = 0.7985090345591098, r2_test = -94.55510165874006\n",
      "degree = 38, r2_train = 0.7985115699930857, r2_test = -76.35526943430156\n",
      "degree = 39, r2_train = 0.7985083154522862, r2_test = -61.81625009126179\n",
      "degree = 40, r2_train = 0.7984995991464136, r2_test = -50.06699408432407\n",
      "degree = 41, r2_train = 0.7984860400022832, r2_test = -40.73784730050097"
     ]
    },
    {
     "name": "stderr",
     "output_type": "stream",
     "text": [
      "c:\\prg\\deep\\timeseries\\ts\\lib\\site-packages\\IPython\\core\\interactiveshell.py:3441: RankWarning: Polyfit may be poorly conditioned\n",
      "  exec(code_obj, self.user_global_ns, self.user_ns)\n",
      "c:\\prg\\deep\\timeseries\\ts\\lib\\site-packages\\IPython\\core\\interactiveshell.py:3441: RankWarning: Polyfit may be poorly conditioned\n",
      "  exec(code_obj, self.user_global_ns, self.user_ns)\n",
      "c:\\prg\\deep\\timeseries\\ts\\lib\\site-packages\\IPython\\core\\interactiveshell.py:3441: RankWarning: Polyfit may be poorly conditioned\n",
      "  exec(code_obj, self.user_global_ns, self.user_ns)\n",
      "c:\\prg\\deep\\timeseries\\ts\\lib\\site-packages\\IPython\\core\\interactiveshell.py:3441: RankWarning: Polyfit may be poorly conditioned\n",
      "  exec(code_obj, self.user_global_ns, self.user_ns)\n",
      "c:\\prg\\deep\\timeseries\\ts\\lib\\site-packages\\IPython\\core\\interactiveshell.py:3441: RankWarning: Polyfit may be poorly conditioned\n",
      "  exec(code_obj, self.user_global_ns, self.user_ns)\n",
      "c:\\prg\\deep\\timeseries\\ts\\lib\\site-packages\\IPython\\core\\interactiveshell.py:3441: RankWarning: Polyfit may be poorly conditioned\n",
      "  exec(code_obj, self.user_global_ns, self.user_ns)\n",
      "c:\\prg\\deep\\timeseries\\ts\\lib\\site-packages\\IPython\\core\\interactiveshell.py:3441: RankWarning: Polyfit may be poorly conditioned\n",
      "  exec(code_obj, self.user_global_ns, self.user_ns)\n",
      "c:\\prg\\deep\\timeseries\\ts\\lib\\site-packages\\IPython\\core\\interactiveshell.py:3441: RankWarning: Polyfit may be poorly conditioned\n",
      "  exec(code_obj, self.user_global_ns, self.user_ns)\n",
      "c:\\prg\\deep\\timeseries\\ts\\lib\\site-packages\\IPython\\core\\interactiveshell.py:3441: RankWarning: Polyfit may be poorly conditioned\n",
      "  exec(code_obj, self.user_global_ns, self.user_ns)\n",
      "c:\\prg\\deep\\timeseries\\ts\\lib\\site-packages\\IPython\\core\\interactiveshell.py:3441: RankWarning: Polyfit may be poorly conditioned\n",
      "  exec(code_obj, self.user_global_ns, self.user_ns)\n",
      "c:\\prg\\deep\\timeseries\\ts\\lib\\site-packages\\IPython\\core\\interactiveshell.py:3441: RankWarning: Polyfit may be poorly conditioned\n",
      "  exec(code_obj, self.user_global_ns, self.user_ns)\n",
      "c:\\prg\\deep\\timeseries\\ts\\lib\\site-packages\\IPython\\core\\interactiveshell.py:3441: RankWarning: Polyfit may be poorly conditioned\n",
      "  exec(code_obj, self.user_global_ns, self.user_ns)\n",
      "c:\\prg\\deep\\timeseries\\ts\\lib\\site-packages\\IPython\\core\\interactiveshell.py:3441: RankWarning: Polyfit may be poorly conditioned\n",
      "  exec(code_obj, self.user_global_ns, self.user_ns)\n",
      "c:\\prg\\deep\\timeseries\\ts\\lib\\site-packages\\IPython\\core\\interactiveshell.py:3441: RankWarning: Polyfit may be poorly conditioned\n",
      "  exec(code_obj, self.user_global_ns, self.user_ns)\n",
      "c:\\prg\\deep\\timeseries\\ts\\lib\\site-packages\\IPython\\core\\interactiveshell.py:3441: RankWarning: Polyfit may be poorly conditioned\n",
      "  exec(code_obj, self.user_global_ns, self.user_ns)\n",
      "c:\\prg\\deep\\timeseries\\ts\\lib\\site-packages\\IPython\\core\\interactiveshell.py:3441: RankWarning: Polyfit may be poorly conditioned\n",
      "  exec(code_obj, self.user_global_ns, self.user_ns)\n",
      "c:\\prg\\deep\\timeseries\\ts\\lib\\site-packages\\IPython\\core\\interactiveshell.py:3441: RankWarning: Polyfit may be poorly conditioned\n",
      "  exec(code_obj, self.user_global_ns, self.user_ns)\n",
      "c:\\prg\\deep\\timeseries\\ts\\lib\\site-packages\\IPython\\core\\interactiveshell.py:3441: RankWarning: Polyfit may be poorly conditioned\n",
      "  exec(code_obj, self.user_global_ns, self.user_ns)\n",
      "c:\\prg\\deep\\timeseries\\ts\\lib\\site-packages\\IPython\\core\\interactiveshell.py:3441: RankWarning: Polyfit may be poorly conditioned\n",
      "  exec(code_obj, self.user_global_ns, self.user_ns)\n",
      "c:\\prg\\deep\\timeseries\\ts\\lib\\site-packages\\IPython\\core\\interactiveshell.py:3441: RankWarning: Polyfit may be poorly conditioned\n",
      "  exec(code_obj, self.user_global_ns, self.user_ns)\n",
      "c:\\prg\\deep\\timeseries\\ts\\lib\\site-packages\\IPython\\core\\interactiveshell.py:3441: RankWarning: Polyfit may be poorly conditioned\n",
      "  exec(code_obj, self.user_global_ns, self.user_ns)\n",
      "c:\\prg\\deep\\timeseries\\ts\\lib\\site-packages\\IPython\\core\\interactiveshell.py:3441: RankWarning: Polyfit may be poorly conditioned\n",
      "  exec(code_obj, self.user_global_ns, self.user_ns)\n",
      "c:\\prg\\deep\\timeseries\\ts\\lib\\site-packages\\IPython\\core\\interactiveshell.py:3441: RankWarning: Polyfit may be poorly conditioned\n",
      "  exec(code_obj, self.user_global_ns, self.user_ns)\n",
      "c:\\prg\\deep\\timeseries\\ts\\lib\\site-packages\\IPython\\core\\interactiveshell.py:3441: RankWarning: Polyfit may be poorly conditioned\n",
      "  exec(code_obj, self.user_global_ns, self.user_ns)\n",
      "c:\\prg\\deep\\timeseries\\ts\\lib\\site-packages\\IPython\\core\\interactiveshell.py:3441: RankWarning: Polyfit may be poorly conditioned\n",
      "  exec(code_obj, self.user_global_ns, self.user_ns)\n",
      "c:\\prg\\deep\\timeseries\\ts\\lib\\site-packages\\IPython\\core\\interactiveshell.py:3441: RankWarning: Polyfit may be poorly conditioned\n",
      "  exec(code_obj, self.user_global_ns, self.user_ns)\n",
      "c:\\prg\\deep\\timeseries\\ts\\lib\\site-packages\\IPython\\core\\interactiveshell.py:3441: RankWarning: Polyfit may be poorly conditioned\n",
      "  exec(code_obj, self.user_global_ns, self.user_ns)\n",
      "c:\\prg\\deep\\timeseries\\ts\\lib\\site-packages\\IPython\\core\\interactiveshell.py:3441: RankWarning: Polyfit may be poorly conditioned\n",
      "  exec(code_obj, self.user_global_ns, self.user_ns)\n",
      "c:\\prg\\deep\\timeseries\\ts\\lib\\site-packages\\IPython\\core\\interactiveshell.py:3441: RankWarning: Polyfit may be poorly conditioned\n",
      "  exec(code_obj, self.user_global_ns, self.user_ns)\n",
      "c:\\prg\\deep\\timeseries\\ts\\lib\\site-packages\\IPython\\core\\interactiveshell.py:3441: RankWarning: Polyfit may be poorly conditioned\n",
      "  exec(code_obj, self.user_global_ns, self.user_ns)\n",
      "c:\\prg\\deep\\timeseries\\ts\\lib\\site-packages\\IPython\\core\\interactiveshell.py:3441: RankWarning: Polyfit may be poorly conditioned\n",
      "  exec(code_obj, self.user_global_ns, self.user_ns)\n"
     ]
    },
    {
     "name": "stdout",
     "output_type": "stream",
     "text": [
      "\n",
      "degree = 42, r2_train = 0.7984682645865795, r2_test = -33.204433005104306\n",
      "degree = 43, r2_train = 0.7985356787366662, r2_test = -57.80775938370603\n",
      "degree = 44, r2_train = 0.7985260897623857, r2_test = -51.44099419266322\n",
      "degree = 45, r2_train = 0.7985148860338727, r2_test = -45.88391363055712\n",
      "degree = 46, r2_train = 0.7985025009485432, r2_test = -41.36959383259649\n",
      "degree = 47, r2_train = 0.798489206492091, r2_test = -37.392005564926045\n",
      "degree = 48, r2_train = 0.7984753412334799, r2_test = -33.98463461034736\n",
      "degree = 49, r2_train = 0.798461168289277, r2_test = -30.858000670197736\n",
      "degree = 50, r2_train = 0.7984468153924189, r2_test = -28.13529041808454\n",
      "degree = 51, r2_train = 0.7984325551165937, r2_test = -25.90598498913585\n",
      "degree = 52, r2_train = 0.7984184354502545, r2_test = -23.820602109649638\n",
      "degree = 53, r2_train = 0.7984046083720195, r2_test = -22.041511345809795\n",
      "degree = 54, r2_train = 0.7983911422324931, r2_test = -20.39437011585184\n",
      "degree = 55, r2_train = 0.798378103448089, r2_test = -18.968495631309754\n",
      "degree = 56, r2_train = 0.7983655463753675, r2_test = -17.64529672819737\n",
      "degree = 57, r2_train = 0.7983534896960149, r2_test = -16.483702599727582\n",
      "degree = 58, r2_train = 0.7983419791249636, r2_test = -15.44077824877398"
     ]
    },
    {
     "name": "stderr",
     "output_type": "stream",
     "text": [
      "c:\\prg\\deep\\timeseries\\ts\\lib\\site-packages\\IPython\\core\\interactiveshell.py:3441: RankWarning: Polyfit may be poorly conditioned\n",
      "  exec(code_obj, self.user_global_ns, self.user_ns)\n",
      "c:\\prg\\deep\\timeseries\\ts\\lib\\site-packages\\IPython\\core\\interactiveshell.py:3441: RankWarning: Polyfit may be poorly conditioned\n",
      "  exec(code_obj, self.user_global_ns, self.user_ns)\n",
      "c:\\prg\\deep\\timeseries\\ts\\lib\\site-packages\\IPython\\core\\interactiveshell.py:3441: RankWarning: Polyfit may be poorly conditioned\n",
      "  exec(code_obj, self.user_global_ns, self.user_ns)\n",
      "c:\\prg\\deep\\timeseries\\ts\\lib\\site-packages\\IPython\\core\\interactiveshell.py:3441: RankWarning: Polyfit may be poorly conditioned\n",
      "  exec(code_obj, self.user_global_ns, self.user_ns)\n",
      "c:\\prg\\deep\\timeseries\\ts\\lib\\site-packages\\IPython\\core\\interactiveshell.py:3441: RankWarning: Polyfit may be poorly conditioned\n",
      "  exec(code_obj, self.user_global_ns, self.user_ns)\n",
      "c:\\prg\\deep\\timeseries\\ts\\lib\\site-packages\\IPython\\core\\interactiveshell.py:3441: RankWarning: Polyfit may be poorly conditioned\n",
      "  exec(code_obj, self.user_global_ns, self.user_ns)\n",
      "c:\\prg\\deep\\timeseries\\ts\\lib\\site-packages\\IPython\\core\\interactiveshell.py:3441: RankWarning: Polyfit may be poorly conditioned\n",
      "  exec(code_obj, self.user_global_ns, self.user_ns)\n",
      "c:\\prg\\deep\\timeseries\\ts\\lib\\site-packages\\IPython\\core\\interactiveshell.py:3441: RankWarning: Polyfit may be poorly conditioned\n",
      "  exec(code_obj, self.user_global_ns, self.user_ns)\n",
      "c:\\prg\\deep\\timeseries\\ts\\lib\\site-packages\\IPython\\core\\interactiveshell.py:3441: RankWarning: Polyfit may be poorly conditioned\n",
      "  exec(code_obj, self.user_global_ns, self.user_ns)\n",
      "c:\\prg\\deep\\timeseries\\ts\\lib\\site-packages\\IPython\\core\\interactiveshell.py:3441: RankWarning: Polyfit may be poorly conditioned\n",
      "  exec(code_obj, self.user_global_ns, self.user_ns)\n",
      "c:\\prg\\deep\\timeseries\\ts\\lib\\site-packages\\IPython\\core\\interactiveshell.py:3441: RankWarning: Polyfit may be poorly conditioned\n",
      "  exec(code_obj, self.user_global_ns, self.user_ns)\n",
      "c:\\prg\\deep\\timeseries\\ts\\lib\\site-packages\\IPython\\core\\interactiveshell.py:3441: RankWarning: Polyfit may be poorly conditioned\n",
      "  exec(code_obj, self.user_global_ns, self.user_ns)\n",
      "c:\\prg\\deep\\timeseries\\ts\\lib\\site-packages\\IPython\\core\\interactiveshell.py:3441: RankWarning: Polyfit may be poorly conditioned\n",
      "  exec(code_obj, self.user_global_ns, self.user_ns)\n",
      "c:\\prg\\deep\\timeseries\\ts\\lib\\site-packages\\IPython\\core\\interactiveshell.py:3441: RankWarning: Polyfit may be poorly conditioned\n",
      "  exec(code_obj, self.user_global_ns, self.user_ns)\n"
     ]
    },
    {
     "name": "stdout",
     "output_type": "stream",
     "text": [
      "\n",
      "degree = 59, r2_train = 0.7983310161730394, r2_test = -14.515094694517456\n",
      "degree = 60, r2_train = 0.798320599777412, r2_test = -13.669878555086145\n",
      "degree = 61, r2_train = 0.798310732816541, r2_test = -12.900563619091963\n",
      "degree = 62, r2_train = 0.7983014019631669, r2_test = -12.204895563410103\n",
      "degree = 63, r2_train = 0.7982925997941097, r2_test = -11.586211260959594\n",
      "degree = 64, r2_train = 0.798879624738008, r2_test = -92.32774595959091\n",
      "degree = 65, r2_train = 0.7988374461072639, r2_test = -84.48550509294527\n",
      "degree = 66, r2_train = 0.7987982780231152, r2_test = -77.76261857363774\n",
      "degree = 67, r2_train = 0.7987619668105953, r2_test = -71.94885350987313\n",
      "degree = 68, r2_train = 0.798728293759389, r2_test = -66.70097639816599\n",
      "degree = 69, r2_train = 0.7986971165489418, r2_test = -62.01235342262076\n",
      "degree = 70, r2_train = 0.7986681696583249, r2_test = -57.60023223744629\n",
      "degree = 71, r2_train = 0.7986413826931228, r2_test = -53.85485137113467\n",
      "degree = 72, r2_train = 0.7986165622369539, r2_test = -50.48968905142269\n",
      "degree = 73, r2_train = 0.7985935805212441, r2_test = -47.47660860547412\n",
      "degree = 74, r2_train = 0.7985722843569252, r2_test = -44.74878523314113\n",
      "degree = 75, r2_train = 0.7985525972454857, r2_test = -42.21390318596458\n",
      "degree = 76, r2_train = 0.7985343284197124, r2_test = -39.903170591492554\n",
      "degree = 77, r2_train = 0.7985077351322132, r2_test = -31.26329026638465\n",
      "degree = 78, r2_train = 0.7984979968421175, r2_test = -32.29135520531391\n",
      "degree = 79, r2_train = 0.7984861927306439, r2_test = -33.62034543502529\n",
      "degree = 80, r2_train = 0.7984738061309046, r2_test = -32.73938495511695\n"
     ]
    },
    {
     "name": "stderr",
     "output_type": "stream",
     "text": [
      "c:\\prg\\deep\\timeseries\\ts\\lib\\site-packages\\IPython\\core\\interactiveshell.py:3441: RankWarning: Polyfit may be poorly conditioned\n",
      "  exec(code_obj, self.user_global_ns, self.user_ns)\n",
      "c:\\prg\\deep\\timeseries\\ts\\lib\\site-packages\\IPython\\core\\interactiveshell.py:3441: RankWarning: Polyfit may be poorly conditioned\n",
      "  exec(code_obj, self.user_global_ns, self.user_ns)\n",
      "c:\\prg\\deep\\timeseries\\ts\\lib\\site-packages\\IPython\\core\\interactiveshell.py:3441: RankWarning: Polyfit may be poorly conditioned\n",
      "  exec(code_obj, self.user_global_ns, self.user_ns)\n",
      "c:\\prg\\deep\\timeseries\\ts\\lib\\site-packages\\IPython\\core\\interactiveshell.py:3441: RankWarning: Polyfit may be poorly conditioned\n",
      "  exec(code_obj, self.user_global_ns, self.user_ns)\n",
      "c:\\prg\\deep\\timeseries\\ts\\lib\\site-packages\\IPython\\core\\interactiveshell.py:3441: RankWarning: Polyfit may be poorly conditioned\n",
      "  exec(code_obj, self.user_global_ns, self.user_ns)\n",
      "c:\\prg\\deep\\timeseries\\ts\\lib\\site-packages\\IPython\\core\\interactiveshell.py:3441: RankWarning: Polyfit may be poorly conditioned\n",
      "  exec(code_obj, self.user_global_ns, self.user_ns)\n",
      "c:\\prg\\deep\\timeseries\\ts\\lib\\site-packages\\IPython\\core\\interactiveshell.py:3441: RankWarning: Polyfit may be poorly conditioned\n",
      "  exec(code_obj, self.user_global_ns, self.user_ns)\n",
      "c:\\prg\\deep\\timeseries\\ts\\lib\\site-packages\\IPython\\core\\interactiveshell.py:3441: RankWarning: Polyfit may be poorly conditioned\n",
      "  exec(code_obj, self.user_global_ns, self.user_ns)\n",
      "c:\\prg\\deep\\timeseries\\ts\\lib\\site-packages\\IPython\\core\\interactiveshell.py:3441: RankWarning: Polyfit may be poorly conditioned\n",
      "  exec(code_obj, self.user_global_ns, self.user_ns)\n",
      "c:\\prg\\deep\\timeseries\\ts\\lib\\site-packages\\IPython\\core\\interactiveshell.py:3441: RankWarning: Polyfit may be poorly conditioned\n",
      "  exec(code_obj, self.user_global_ns, self.user_ns)\n",
      "c:\\prg\\deep\\timeseries\\ts\\lib\\site-packages\\IPython\\core\\interactiveshell.py:3441: RankWarning: Polyfit may be poorly conditioned\n",
      "  exec(code_obj, self.user_global_ns, self.user_ns)\n",
      "c:\\prg\\deep\\timeseries\\ts\\lib\\site-packages\\IPython\\core\\interactiveshell.py:3441: RankWarning: Polyfit may be poorly conditioned\n",
      "  exec(code_obj, self.user_global_ns, self.user_ns)\n",
      "c:\\prg\\deep\\timeseries\\ts\\lib\\site-packages\\IPython\\core\\interactiveshell.py:3441: RankWarning: Polyfit may be poorly conditioned\n",
      "  exec(code_obj, self.user_global_ns, self.user_ns)\n",
      "c:\\prg\\deep\\timeseries\\ts\\lib\\site-packages\\IPython\\core\\interactiveshell.py:3441: RankWarning: Polyfit may be poorly conditioned\n",
      "  exec(code_obj, self.user_global_ns, self.user_ns)\n",
      "c:\\prg\\deep\\timeseries\\ts\\lib\\site-packages\\IPython\\core\\interactiveshell.py:3441: RankWarning: Polyfit may be poorly conditioned\n",
      "  exec(code_obj, self.user_global_ns, self.user_ns)\n",
      "c:\\prg\\deep\\timeseries\\ts\\lib\\site-packages\\IPython\\core\\interactiveshell.py:3441: RankWarning: Polyfit may be poorly conditioned\n",
      "  exec(code_obj, self.user_global_ns, self.user_ns)\n",
      "c:\\prg\\deep\\timeseries\\ts\\lib\\site-packages\\IPython\\core\\interactiveshell.py:3441: RankWarning: Polyfit may be poorly conditioned\n",
      "  exec(code_obj, self.user_global_ns, self.user_ns)\n",
      "c:\\prg\\deep\\timeseries\\ts\\lib\\site-packages\\IPython\\core\\interactiveshell.py:3441: RankWarning: Polyfit may be poorly conditioned\n",
      "  exec(code_obj, self.user_global_ns, self.user_ns)\n",
      "c:\\prg\\deep\\timeseries\\ts\\lib\\site-packages\\IPython\\core\\interactiveshell.py:3441: RankWarning: Polyfit may be poorly conditioned\n",
      "  exec(code_obj, self.user_global_ns, self.user_ns)\n",
      "c:\\prg\\deep\\timeseries\\ts\\lib\\site-packages\\IPython\\core\\interactiveshell.py:3441: RankWarning: Polyfit may be poorly conditioned\n",
      "  exec(code_obj, self.user_global_ns, self.user_ns)\n"
     ]
    }
   ],
   "source": [
    "import numpy\n",
    "import matplotlib.pyplot as plt\n",
    "from sklearn.metrics import r2_score\n",
    "\n",
    "#numpy.random.seed(2)\n",
    "\n",
    "x = numpy.random.normal(3, 1, 100)\n",
    "y = numpy.random.normal(150, 40, 100) / x\n",
    "\n",
    "train_x = x[:80]\n",
    "train_y = y[:80]\n",
    "\n",
    "test_x = x[80:]\n",
    "test_y = y[80:]\n",
    "\n",
    "for i in range(2,len(train_x)+1):\n",
    "    mymodel = numpy.poly1d(numpy.polyfit(train_x, train_y, i))\n",
    "\n",
    "    myline = numpy.linspace(0, 6, 100)\n",
    "    r2_train = r2_score(train_y, mymodel(train_x))\n",
    "    r2_test = r2_score(test_y, mymodel(test_x))\n",
    "    print(f\"degree = {i}, r2_train = {r2_train}, r2_test = {r2_test}\")\n",
    "#plt.scatter(train_x, train_y)\n",
    "#plt.plot(myline, mymodel(myline))\n",
    "#plt.show()"
   ]
  },
  {
   "cell_type": "code",
   "execution_count": null,
   "id": "58e702b5",
   "metadata": {},
   "outputs": [],
   "source": []
  }
 ],
 "metadata": {
  "kernelspec": {
   "display_name": "Python 3 (ipykernel)",
   "language": "python",
   "name": "python3"
  },
  "language_info": {
   "codemirror_mode": {
    "name": "ipython",
    "version": 3
   },
   "file_extension": ".py",
   "mimetype": "text/x-python",
   "name": "python",
   "nbconvert_exporter": "python",
   "pygments_lexer": "ipython3",
   "version": "3.9.6"
  }
 },
 "nbformat": 4,
 "nbformat_minor": 5
}
